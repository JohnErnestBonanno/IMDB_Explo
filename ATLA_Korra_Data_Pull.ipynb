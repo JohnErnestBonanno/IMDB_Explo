{
 "cells": [
  {
   "cell_type": "code",
   "execution_count": 1,
   "metadata": {
    "collapsed": true
   },
   "outputs": [],
   "source": [
    "import imdb"
   ]
  },
  {
   "cell_type": "code",
   "execution_count": 3,
   "metadata": {},
   "outputs": [],
   "source": [
    "ia = imdb.IMDb()"
   ]
  },
  {
   "cell_type": "code",
   "execution_count": 4,
   "metadata": {
    "collapsed": true
   },
   "outputs": [],
   "source": [
    "tv_show = ia.search_movie('avatar')"
   ]
  },
  {
   "cell_type": "code",
   "execution_count": 8,
   "metadata": {},
   "outputs": [
    {
     "name": "stdout",
     "output_type": "stream",
     "text": [
      "[<Movie id:0499549[http] title:_Avatar (2009)_>, <Movie id:0417299[http] title:_\"Avatar: The Last Airbender\" (2005)_>, <Movie id:0120347[http] title:_Tomorrow Never Dies (1997)_>, <Movie id:1630029[http] title:_Avatar 2 (2021)_>, <Movie id:1695360[http] title:_\"The Legend of Korra\" (2012)_>, <Movie id:0938283[http] title:_The Last Airbender (2010)_>, <Movie id:1133985[http] title:_Green Lantern (2011)_>, <Movie id:9018736[http] title:_\"Avatar: The Last Airbender\" (None)_>, <Movie id:1757678[http] title:_Avatar 3 (2023)_>, <Movie id:5637536[http] title:_Avatar 5 (2027)_>, <Movie id:3095356[http] title:_Avatar 4 (2025)_>, <Movie id:2926746[http] title:_\"The Avatars\" (2013)_>, <Movie id:6859260[http] title:_\"The King's Avatar\" (2017)_>, <Movie id:4727514[http] title:_The Last Avatar (2014)_>, <Movie id:1775309[http] title:_Avatar (2011)_>, <Movie id:1900832[http] title:_Avatar Spirits (2010)_>, <Movie id:1517155[http] title:_Avatar: The Game (2009) (VG)_>, <Movie id:10732794[http] title:_\"The King's Avatar\" (2019)_>, <Movie id:5863892[http] title:_Avatar (2016) (V)_>, <Movie id:0497595[http] title:_Avatar (2005)_>]\n"
     ]
    }
   ],
   "source": [
    "print(tv_show)"
   ]
  },
  {
   "cell_type": "code",
   "execution_count": 7,
   "metadata": {},
   "outputs": [
    {
     "name": "stdout",
     "output_type": "stream",
     "text": [
      "Avatar\n",
      "Avatar: The Last Airbender\n",
      "Tomorrow Never Dies\n",
      "Avatar 2\n",
      "The Legend of Korra\n",
      "The Last Airbender\n",
      "Green Lantern\n",
      "Avatar: The Last Airbender\n",
      "Avatar 3\n",
      "Avatar 5\n",
      "Avatar 4\n",
      "The Avatars\n",
      "The King's Avatar\n",
      "The Last Avatar\n",
      "Avatar\n",
      "Avatar Spirits\n",
      "Avatar: The Game\n",
      "The King's Avatar\n",
      "Avatar\n",
      "Avatar\n"
     ]
    }
   ],
   "source": [
    "for i in range(len(tv_show)):\n",
    "    print(tv_show[i])"
   ]
  },
  {
   "cell_type": "code",
   "execution_count": 34,
   "metadata": {
    "collapsed": true
   },
   "outputs": [],
   "source": [
    "korra = ia.get_movie('1695360')\n",
    "atla = ia.get_movie('0417299')\n",
    "sample = ia.get_movie('0389564')"
   ]
  },
  {
   "cell_type": "code",
   "execution_count": 35,
   "metadata": {},
   "outputs": [
    {
     "name": "stdout",
     "output_type": "stream",
     "text": [
      "tv series\n",
      "tv series\n",
      "tv series\n"
     ]
    }
   ],
   "source": [
    "print(korra['kind'])\n",
    "print(atla['kind'])\n",
    "print(sample['kind'])"
   ]
  },
  {
   "cell_type": "code",
   "execution_count": 36,
   "metadata": {},
   "outputs": [
    {
     "name": "stdout",
     "output_type": "stream",
     "text": [
      "{'main': ['cast', 'genres', 'runtimes', 'countries', 'country codes', 'language codes', 'color info', 'aspect ratio', 'sound mix', 'certificates', 'number of seasons', 'rating', 'votes', 'cover url', 'plot outline', 'languages', 'title', 'year', 'kind', 'series years', 'akas', 'seasons', 'writer', 'production companies', 'distributors', 'other companies'], 'plot': ['plot']}\n",
      "\n",
      "{'main': ['cast', 'genres', 'runtimes', 'countries', 'country codes', 'language codes', 'color info', 'aspect ratio', 'sound mix', 'certificates', 'number of seasons', 'rating', 'votes', 'cover url', 'plot outline', 'languages', 'title', 'year', 'kind', 'series years', 'akas', 'seasons', 'writer', 'production companies', 'distributors', 'special effects', 'other companies'], 'plot': ['plot']}\n"
     ]
    }
   ],
   "source": [
    "print(korra.infoset2keys)\n",
    "print()\n",
    "print(sample.infoset2keys)"
   ]
  },
  {
   "cell_type": "code",
   "execution_count": 55,
   "metadata": {},
   "outputs": [
    {
     "data": {
      "text/plain": [
       "'tv series'"
      ]
     },
     "execution_count": 55,
     "metadata": {},
     "output_type": "execute_result"
    }
   ],
   "source": [
    "korra['kind']"
   ]
  },
  {
   "cell_type": "code",
   "execution_count": 56,
   "metadata": {
    "collapsed": true
   },
   "outputs": [],
   "source": [
    "ia.update(korra,'episodes')"
   ]
  },
  {
   "cell_type": "code",
   "execution_count": 59,
   "metadata": {},
   "outputs": [
    {
     "data": {
      "text/plain": [
       "[1, 2, 3, 4]"
      ]
     },
     "execution_count": 59,
     "metadata": {},
     "output_type": "execute_result"
    }
   ],
   "source": [
    "sorted(korra['episodes'].keys())"
   ]
  },
  {
   "cell_type": "code",
   "execution_count": 61,
   "metadata": {},
   "outputs": [],
   "source": [
    "season1 = korra['episodes'][1]"
   ]
  },
  {
   "cell_type": "code",
   "execution_count": 62,
   "metadata": {},
   "outputs": [
    {
     "data": {
      "text/plain": [
       "12"
      ]
     },
     "execution_count": 62,
     "metadata": {},
     "output_type": "execute_result"
    }
   ],
   "source": [
    "len(season1)"
   ]
  },
  {
   "cell_type": "code",
   "execution_count": 63,
   "metadata": {},
   "outputs": [
    {
     "data": {
      "text/plain": [
       "dict"
      ]
     },
     "execution_count": 63,
     "metadata": {},
     "output_type": "execute_result"
    }
   ],
   "source": [
    "type(season1)"
   ]
  },
  {
   "cell_type": "code",
   "execution_count": 64,
   "metadata": {},
   "outputs": [
    {
     "name": "stdout",
     "output_type": "stream",
     "text": [
      "{1: <Movie id:2150017[http] title:_\"The Legend of Korra (TV Series 2012–2014) - IMDb\" Welcome to Republic City (2012)_>, 2: <Movie id:2315621[http] title:_\"The Legend of Korra (TV Series 2012–2014) - IMDb\" A Leaf in the Wind (2012)_>, 3: <Movie id:2388409[http] title:_\"The Legend of Korra (TV Series 2012–2014) - IMDb\" The Revelation (2012)_>, 4: <Movie id:2353307[http] title:_\"The Legend of Korra (TV Series 2012–2014) - IMDb\" The Voice in the Night (2012)_>, 5: <Movie id:2353317[http] title:_\"The Legend of Korra (TV Series 2012–2014) - IMDb\" The Spirit of Competition (2012)_>, 6: <Movie id:2353315[http] title:_\"The Legend of Korra (TV Series 2012–2014) - IMDb\" And the Winner Is... (2012)_>, 7: <Movie id:2353309[http] title:_\"The Legend of Korra (TV Series 2012–2014) - IMDb\" The Aftermath (2012)_>, 8: <Movie id:2353311[http] title:_\"The Legend of Korra (TV Series 2012–2014) - IMDb\" When Extremes Meet (2012)_>, 9: <Movie id:2353313[http] title:_\"The Legend of Korra (TV Series 2012–2014) - IMDb\" Out of the Past (2012)_>, 10: <Movie id:2353305[http] title:_\"The Legend of Korra (TV Series 2012–2014) - IMDb\" Turning the Tides (2012)_>, 11: <Movie id:2198968[http] title:_\"The Legend of Korra (TV Series 2012–2014) - IMDb\" Skeletons in the Closet (2012)_>, 12: <Movie id:2198738[http] title:_\"The Legend of Korra (TV Series 2012–2014) - IMDb\" Endgame (2012)_>}\n"
     ]
    }
   ],
   "source": [
    "print(season1)"
   ]
  },
  {
   "cell_type": "code",
   "execution_count": 72,
   "metadata": {},
   "outputs": [
    {
     "data": {
      "text/plain": [
       "dict"
      ]
     },
     "execution_count": 72,
     "metadata": {},
     "output_type": "execute_result"
    }
   ],
   "source": [
    "type(season1)"
   ]
  },
  {
   "cell_type": "code",
   "execution_count": null,
   "metadata": {
    "collapsed": true
   },
   "outputs": [],
   "source": [
    "#get good at pandas to dict"
   ]
  },
  {
   "cell_type": "code",
   "execution_count": null,
   "metadata": {
    "collapsed": true
   },
   "outputs": [],
   "source": []
  },
  {
   "cell_type": "code",
   "execution_count": 65,
   "metadata": {},
   "outputs": [
    {
     "ename": "KeyError",
     "evalue": "0",
     "output_type": "error",
     "traceback": [
      "\u001b[1;31m---------------------------------------------------------------------------\u001b[0m",
      "\u001b[1;31mKeyError\u001b[0m                                  Traceback (most recent call last)",
      "\u001b[1;32m<ipython-input-65-6b2f3874d476>\u001b[0m in \u001b[0;36m<module>\u001b[1;34m()\u001b[0m\n\u001b[0;32m      1\u001b[0m \u001b[1;32mfor\u001b[0m \u001b[0mi\u001b[0m \u001b[1;32min\u001b[0m \u001b[0mrange\u001b[0m\u001b[1;33m(\u001b[0m\u001b[0mlen\u001b[0m\u001b[1;33m(\u001b[0m\u001b[0mseason1\u001b[0m\u001b[1;33m)\u001b[0m\u001b[1;33m)\u001b[0m\u001b[1;33m:\u001b[0m\u001b[1;33m\u001b[0m\u001b[0m\n\u001b[1;32m----> 2\u001b[1;33m     \u001b[0mprint\u001b[0m\u001b[1;33m(\u001b[0m\u001b[0mseason1\u001b[0m\u001b[1;33m[\u001b[0m\u001b[0mi\u001b[0m\u001b[1;33m]\u001b[0m\u001b[1;33m)\u001b[0m\u001b[1;33m\u001b[0m\u001b[0m\n\u001b[0m",
      "\u001b[1;31mKeyError\u001b[0m: 0"
     ]
    }
   ],
   "source": [
    "for i in range(len(season1)):\n",
    "    print(season1[i])"
   ]
  },
  {
   "cell_type": "code",
   "execution_count": 66,
   "metadata": {
    "collapsed": true
   },
   "outputs": [],
   "source": [
    "episode1 = ia.get_movie('2150017')"
   ]
  },
  {
   "cell_type": "code",
   "execution_count": 68,
   "metadata": {},
   "outputs": [
    {
     "name": "stdout",
     "output_type": "stream",
     "text": [
      "Welcome to Republic City\n",
      "The Legend of Korra\n",
      "The Legend of Korra\n"
     ]
    }
   ],
   "source": [
    "print(episode1['title'])\n",
    "print(episode1['series title'])\n",
    "print(episode1['episode of'])"
   ]
  },
  {
   "cell_type": "code",
   "execution_count": 70,
   "metadata": {},
   "outputs": [
    {
     "ename": "AttributeError",
     "evalue": "'Movie' object has no attribute 'analyze_title'",
     "output_type": "error",
     "traceback": [
      "\u001b[1;31m---------------------------------------------------------------------------\u001b[0m",
      "\u001b[1;31mAttributeError\u001b[0m                            Traceback (most recent call last)",
      "\u001b[1;32m<ipython-input-70-225710b8df0e>\u001b[0m in \u001b[0;36m<module>\u001b[1;34m()\u001b[0m\n\u001b[1;32m----> 1\u001b[1;33m \u001b[0mepisode1\u001b[0m\u001b[1;33m.\u001b[0m\u001b[0manalyze_title\u001b[0m\u001b[1;33m(\u001b[0m\u001b[1;34m'\"The Legend of Korra\" Welcome to Republic City'\u001b[0m\u001b[1;33m)\u001b[0m\u001b[1;33m\u001b[0m\u001b[0m\n\u001b[0m",
      "\u001b[1;31mAttributeError\u001b[0m: 'Movie' object has no attribute 'analyze_title'"
     ]
    }
   ],
   "source": [
    "episode1.analyze_title('\"The Legend of Korra\" Welcome to Republic City')"
   ]
  },
  {
   "cell_type": "code",
   "execution_count": 71,
   "metadata": {},
   "outputs": [
    {
     "data": {
      "text/plain": [
       "8.6"
      ]
     },
     "execution_count": 71,
     "metadata": {},
     "output_type": "execute_result"
    }
   ],
   "source": [
    "episode1['rating']"
   ]
  },
  {
   "cell_type": "code",
   "execution_count": 51,
   "metadata": {
    "collapsed": true
   },
   "outputs": [],
   "source": [
    "episode = ia.get_movie('0502803')"
   ]
  },
  {
   "cell_type": "code",
   "execution_count": 54,
   "metadata": {},
   "outputs": [
    {
     "data": {
      "text/plain": [
       "<Movie id:0389564[http] title:_\"The 4400\" (None)_>"
      ]
     },
     "execution_count": 54,
     "metadata": {},
     "output_type": "execute_result"
    }
   ],
   "source": [
    "episode['episode of']"
   ]
  },
  {
   "cell_type": "code",
   "execution_count": 50,
   "metadata": {},
   "outputs": [
    {
     "ename": "KeyError",
     "evalue": "'episodes'",
     "output_type": "error",
     "traceback": [
      "\u001b[1;31m---------------------------------------------------------------------------\u001b[0m",
      "\u001b[1;31mKeyError\u001b[0m                                  Traceback (most recent call last)",
      "\u001b[1;32m<ipython-input-50-ac420bf5d837>\u001b[0m in \u001b[0;36m<module>\u001b[1;34m()\u001b[0m\n\u001b[1;32m----> 1\u001b[1;33m \u001b[0mprint\u001b[0m\u001b[1;33m(\u001b[0m\u001b[0mkorra\u001b[0m\u001b[1;33m[\u001b[0m\u001b[1;34m'episodes'\u001b[0m\u001b[1;33m]\u001b[0m\u001b[1;33m)\u001b[0m\u001b[1;33m\u001b[0m\u001b[0m\n\u001b[0m",
      "\u001b[1;32m~\\Anaconda3\\lib\\site-packages\\imdb\\utils.py\u001b[0m in \u001b[0;36m__getitem__\u001b[1;34m(self, key)\u001b[0m\n\u001b[0;32m   1502\u001b[0m         \u001b[1;31m# Handle key aliases.\u001b[0m\u001b[1;33m\u001b[0m\u001b[1;33m\u001b[0m\u001b[0m\n\u001b[0;32m   1503\u001b[0m         \u001b[0mkey\u001b[0m \u001b[1;33m=\u001b[0m \u001b[0mself\u001b[0m\u001b[1;33m.\u001b[0m\u001b[0mkeys_alias\u001b[0m\u001b[1;33m.\u001b[0m\u001b[0mget\u001b[0m\u001b[1;33m(\u001b[0m\u001b[0mkey\u001b[0m\u001b[1;33m,\u001b[0m \u001b[0mkey\u001b[0m\u001b[1;33m)\u001b[0m\u001b[1;33m\u001b[0m\u001b[0m\n\u001b[1;32m-> 1504\u001b[1;33m         \u001b[0mrawData\u001b[0m \u001b[1;33m=\u001b[0m \u001b[0mself\u001b[0m\u001b[1;33m.\u001b[0m\u001b[0mdata\u001b[0m\u001b[1;33m[\u001b[0m\u001b[0mkey\u001b[0m\u001b[1;33m]\u001b[0m\u001b[1;33m\u001b[0m\u001b[0m\n\u001b[0m\u001b[0;32m   1505\u001b[0m         \u001b[1;32mif\u001b[0m \u001b[0mkey\u001b[0m \u001b[1;32min\u001b[0m \u001b[0mself\u001b[0m\u001b[1;33m.\u001b[0m\u001b[0mkeys_tomodify\u001b[0m \u001b[1;32mand\u001b[0m\u001b[0;31m \u001b[0m\u001b[0;31m\\\u001b[0m\u001b[1;33m\u001b[0m\u001b[0m\n\u001b[0;32m   1506\u001b[0m                 \u001b[0mself\u001b[0m\u001b[1;33m.\u001b[0m\u001b[0mmodFunct\u001b[0m \u001b[1;32mnot\u001b[0m \u001b[1;32min\u001b[0m \u001b[1;33m(\u001b[0m\u001b[1;32mNone\u001b[0m\u001b[1;33m,\u001b[0m \u001b[0mmodNull\u001b[0m\u001b[1;33m)\u001b[0m\u001b[1;33m:\u001b[0m\u001b[1;33m\u001b[0m\u001b[0m\n",
      "\u001b[1;31mKeyError\u001b[0m: 'episodes'"
     ]
    }
   ],
   "source": [
    "print(korra['episodes'])"
   ]
  },
  {
   "cell_type": "code",
   "execution_count": 47,
   "metadata": {},
   "outputs": [
    {
     "data": {
      "text/plain": [
       "['La leyenda de Korra (United States, Spanish title)',\n",
       " 'The Last Airbender: The Legend of Korra (United States)',\n",
       " 'Avatar: The Legend of Korra (World-wide, English title)',\n",
       " 'La Légende de Korra (France)',\n",
       " 'Die Legende von Korra (Germany)']"
      ]
     },
     "execution_count": 47,
     "metadata": {},
     "output_type": "execute_result"
    }
   ],
   "source": [
    "korra['akas']"
   ]
  },
  {
   "cell_type": "code",
   "execution_count": 25,
   "metadata": {},
   "outputs": [
    {
     "name": "stdout",
     "output_type": "stream",
     "text": [
      "None\n"
     ]
    }
   ],
   "source": [
    "print(korra.get('synopsis'))"
   ]
  },
  {
   "cell_type": "code",
   "execution_count": 30,
   "metadata": {},
   "outputs": [
    {
     "data": {
      "text/plain": [
       "'tv series'"
      ]
     },
     "execution_count": 30,
     "metadata": {},
     "output_type": "execute_result"
    }
   ],
   "source": [
    "korra['kind']"
   ]
  },
  {
   "cell_type": "code",
   "execution_count": 26,
   "metadata": {
    "collapsed": true
   },
   "outputs": [],
   "source": [
    "actors = korra['cast']"
   ]
  },
  {
   "cell_type": "code",
   "execution_count": 27,
   "metadata": {},
   "outputs": [
    {
     "name": "stdout",
     "output_type": "stream",
     "text": [
      "[<Person id:1661282[http] name:_Janet Varney_>, <Person id:0071818[http] name:_Jeff Bennett_>, <Person id:0048389[http] name:_Dee Bradley Baker_>, <Person id:0126260[http] name:_P.J. Byrne_>, <Person id:0004910[http] name:_David Faustino_>, <Person id:0799777[http] name:_J.K. Simmons_>, <Person id:2437267[http] name:_Seychelle Gabriel_>, <Person id:0827565[http] name:_Mindy Sterling_>, <Person id:4960791[http] name:_Logan Wells_>, <Person id:2215143[http] name:_Kiernan Shipka_>, <Person id:0383422[http] name:_John Michael Higgins_>, <Person id:1393246[http] name:_Darcy Rose Byrnes_>, <Person id:0051469[http] name:_Maria Bamford_>, <Person id:0726223[http] name:_Richard Riehle_>, <Person id:0001664[http] name:_James Remar_>, <Person id:0490347[http] name:_Adrian LaTourelle_>, <Person id:0000162[http] name:_Anne Heche_>, <Person id:0249046[http] name:_Lisa Edelstein_>, <Person id:0738433[http] name:_Henry Rollins_>, <Person id:0089710[http] name:_Steve Blum_>, <Person id:2201555[http] name:_Aubrey Plaza_>, <Person id:0931958[http] name:_Zelda Williams_>, <Person id:1315809[http] name:_Stephanie Sheh_>, <Person id:0308208[http] name:_Spencer Garrett_>, <Person id:0002350[http] name:_Jim Meskimen_>, <Person id:0385391[http] name:_Aaron Himelstein_>, <Person id:0539503[http] name:_Sunil Malhotra_>, <Person id:1351987[http] name:_Alyson Stoner_>, <Person id:0217221[http] name:_Grey Griffin_>, <Person id:0011095[http] name:_Jonathan Adams_>, <Person id:0318487[http] name:_Peter Giles_>, <Person id:3158156[http] name:_Skyler Brigmann_>, <Person id:1920556[http] name:_Todd Haberkorn_>, <Person id:0000448[http] name:_Lance Henriksen_>, <Person id:0196654[http] name:_Daniel Dae Kim_>, <Person id:0016141[http] name:_Carlos Alazraqui_>, <Person id:0571327[http] name:_Alex McKenna_>, <Person id:0005606[http] name:_Maurice LaMarche_>, <Person id:0002364[http] name:_Dante Basco_>, <Person id:0364814[http] name:_Jason Harris_>, <Person id:0943127[http] name:_Kristy Wu_>, <Person id:0798152[http] name:_Susan Silo_>, <Person id:0865686[http] name:_Marcus Toji_>, <Person id:0001117[http] name:_Bruce Davison_>, <Person id:0829181[http] name:_April Stewart_>, <Person id:0258268[http] name:_Richard Epcar_>, <Person id:0005189[http] name:_Jason Marsden_>, <Person id:0996651[http] name:_Greg Cipes_>, <Person id:0001693[http] name:_Eva Marie Saint_>, <Person id:0192291[http] name:_Philece Sampler_>]\n"
     ]
    }
   ],
   "source": [
    "print(actors)"
   ]
  },
  {
   "cell_type": "code",
   "execution_count": 29,
   "metadata": {},
   "outputs": [
    {
     "name": "stdout",
     "output_type": "stream",
     "text": [
      "Janet Varney\n",
      "Jeff Bennett\n",
      "Dee Bradley Baker\n",
      "P.J. Byrne\n",
      "David Faustino\n",
      "J.K. Simmons\n",
      "Seychelle Gabriel\n",
      "Mindy Sterling\n",
      "Logan Wells\n",
      "Kiernan Shipka\n",
      "John Michael Higgins\n",
      "Darcy Rose Byrnes\n",
      "Maria Bamford\n",
      "Richard Riehle\n",
      "James Remar\n",
      "Adrian LaTourelle\n",
      "Anne Heche\n",
      "Lisa Edelstein\n",
      "Henry Rollins\n",
      "Steve Blum\n",
      "Aubrey Plaza\n",
      "Zelda Williams\n",
      "Stephanie Sheh\n",
      "Spencer Garrett\n",
      "Jim Meskimen\n",
      "Aaron Himelstein\n",
      "Sunil Malhotra\n",
      "Alyson Stoner\n",
      "Grey Griffin\n",
      "Jonathan Adams\n",
      "Peter Giles\n",
      "Skyler Brigmann\n",
      "Todd Haberkorn\n",
      "Lance Henriksen\n",
      "Daniel Dae Kim\n",
      "Carlos Alazraqui\n",
      "Alex McKenna\n",
      "Maurice LaMarche\n",
      "Dante Basco\n",
      "Jason Harris\n",
      "Kristy Wu\n",
      "Susan Silo\n",
      "Marcus Toji\n",
      "Bruce Davison\n",
      "April Stewart\n",
      "Richard Epcar\n",
      "Jason Marsden\n",
      "Greg Cipes\n",
      "Eva Marie Saint\n",
      "Philece Sampler\n"
     ]
    }
   ],
   "source": [
    "for i in range(len(actors)):\n",
    "    print(actors[i])"
   ]
  },
  {
   "cell_type": "code",
   "execution_count": 9,
   "metadata": {
    "collapsed": true
   },
   "outputs": [],
   "source": [
    "joss_wedon = ia.search_person('whedon')"
   ]
  },
  {
   "cell_type": "code",
   "execution_count": 10,
   "metadata": {},
   "outputs": [
    {
     "name": "stdout",
     "output_type": "stream",
     "text": [
      "[<Person id:6970383[http] name:_Whedonopolis_>, <Person id:0923736[http] name:_Joss Whedon_>, <Person id:1871590[http] name:_Jed Whedon_>, <Person id:0923738[http] name:_Zack Whedon_>, <Person id:0923737[http] name:_Tom Whedon_>, <Person id:0923735[http] name:_John Whedon_>, <Person id:0003659[http] name:_Phedon Papamichael (II)_>, <Person id:2748276[http] name:_Matthew Whedon_>, <Person id:8062685[http] name:_Josh Wheddon_>, <Person id:9572895[http] name:_The Don_>, <Person id:3269628[http] name:_Sam Whedon_>, <Person id:0923734[http] name:_Dan Whedon_>, <Person id:1697717[http] name:_The Donnas_>, <Person id:6970942[http] name:_Cali Whedon_>, <Person id:10604744[http] name:_Jennifer Whedon_>, <Person id:8028805[http] name:_Craig Whedon_>, <Person id:10604745[http] name:_Justin Whedon_>, <Person id:6749564[http] name:_Rusty Whedon_>, <Person id:6970943[http] name:_Chuck Whedon_>, <Person id:5880926[http] name:_Amy Whedonite_>]\n"
     ]
    }
   ],
   "source": [
    "print(joss_wedon)"
   ]
  },
  {
   "cell_type": "code",
   "execution_count": 11,
   "metadata": {},
   "outputs": [
    {
     "name": "stdout",
     "output_type": "stream",
     "text": [
      "Whedonopolis\n",
      "Joss Whedon\n",
      "Jed Whedon\n",
      "Zack Whedon\n",
      "Tom Whedon\n",
      "John Whedon\n",
      "Phedon Papamichael\n",
      "Matthew Whedon\n",
      "Josh Wheddon\n",
      "The Don\n",
      "Sam Whedon\n",
      "Dan Whedon\n",
      "The Donnas\n",
      "Cali Whedon\n",
      "Jennifer Whedon\n",
      "Craig Whedon\n",
      "Justin Whedon\n",
      "Rusty Whedon\n",
      "Chuck Whedon\n",
      "Amy Whedonite\n"
     ]
    }
   ],
   "source": [
    "for i in range(len(joss_wedon)):\n",
    "    print(joss_wedon[i])"
   ]
  },
  {
   "cell_type": "code",
   "execution_count": 12,
   "metadata": {
    "collapsed": true
   },
   "outputs": [],
   "source": [
    "top = ia.get_top250_movies()"
   ]
  },
  {
   "cell_type": "code",
   "execution_count": 15,
   "metadata": {},
   "outputs": [
    {
     "name": "stdout",
     "output_type": "stream",
     "text": [
      "The Shawshank Redemption\n",
      "The Godfather\n",
      "The Godfather: Part II\n",
      "The Dark Knight\n",
      "12 Angry Men\n",
      "Schindler's List\n",
      "The Lord of the Rings: The Return of the King\n",
      "Pulp Fiction\n",
      "The Good, the Bad and the Ugly\n",
      "Fight Club\n",
      "The Lord of the Rings: The Fellowship of the Ring\n",
      "Forrest Gump\n",
      "Inception\n",
      "Star Wars: Episode V - The Empire Strikes Back\n",
      "The Lord of the Rings: The Two Towers\n",
      "One Flew Over the Cuckoo's Nest\n",
      "Goodfellas\n",
      "The Matrix\n",
      "Seven Samurai\n",
      "Se7en\n",
      "City of God\n",
      "Star Wars: Episode IV - A New Hope\n",
      "The Silence of the Lambs\n",
      "It's a Wonderful Life\n",
      "Life Is Beautiful\n",
      "Avengers: Endgame\n",
      "Saving Private Ryan\n",
      "Spirited Away\n",
      "The Usual Suspects\n",
      "Léon: The Professional\n",
      "The Green Mile\n",
      "Interstellar\n",
      "American History X\n",
      "Psycho\n",
      "City Lights\n",
      "The Pianist\n",
      "Modern Times\n",
      "The Lion King\n",
      "Back to the Future\n",
      "Once Upon a Time in the West\n",
      "The Intouchables\n",
      "Terminator 2: Judgment Day\n",
      "The Departed\n",
      "Casablanca\n",
      "Whiplash\n",
      "Gladiator\n",
      "The Prestige\n",
      "Rear Window\n",
      "Raiders of the Lost Ark\n",
      "Alien\n",
      "Memento\n",
      "Apocalypse Now\n",
      "Grave of the Fireflies\n",
      "Cinema Paradiso\n",
      "The Great Dictator\n",
      "The Lives of Others\n",
      "Spider-Man: Into the Spider-Verse\n",
      "Avengers: Infinity War\n",
      "Sunset Blvd.\n",
      "Dr. Strangelove or: How I Learned to Stop Worrying and Love the Bomb\n",
      "Django Unchained\n",
      "Paths of Glory\n",
      "The Shining\n",
      "WALL·E\n",
      "Princess Mononoke\n",
      "Witness for the Prosecution\n",
      "Oldboy\n",
      "The Dark Knight Rises\n",
      "Aliens\n",
      "Once Upon a Time in America\n",
      "American Beauty\n",
      "Coco\n",
      "Das Boot\n",
      "Braveheart\n",
      "Your Name.\n",
      "Star Wars: Episode VI - Return of the Jedi\n",
      "Citizen Kane\n",
      "Reservoir Dogs\n",
      "Vertigo\n",
      "Amadeus\n",
      "3 Idiots\n",
      "North by Northwest\n",
      "M\n",
      "Toy Story\n",
      "Like Stars on Earth\n",
      "Requiem for a Dream\n",
      "Dangal\n",
      "2001: A Space Odyssey\n",
      "Eternal Sunshine of the Spotless Mind\n",
      "Inglourious Basterds\n",
      "A Clockwork Orange\n",
      "Good Will Hunting\n",
      "Lawrence of Arabia\n",
      "Singin' in the Rain\n",
      "Amélie\n",
      "Full Metal Jacket\n",
      "Taxi Driver\n",
      "Bicycle Thieves\n",
      "Double Indemnity\n",
      "The Kid\n",
      "The Hunt\n",
      "The Sting\n",
      "Toy Story 3\n",
      "To Kill a Mockingbird\n",
      "Snatch\n",
      "Once Upon a Time ... in Hollywood\n",
      "Scarface\n",
      "For a Few Dollars More\n",
      "Metropolis\n",
      "The Apartment\n",
      "A Separation\n",
      "Monty Python and the Holy Grail\n",
      "L.A. Confidential\n",
      "Indiana Jones and the Last Crusade\n",
      "Up\n",
      "Rashomon\n",
      "Ikiru\n",
      "Yojimbo\n",
      "Batman Begins\n",
      "Incendies\n",
      "Die Hard\n",
      "Heat\n",
      "Some Like It Hot\n",
      "Downfall\n",
      "Unforgiven\n",
      "All About Eve\n",
      "Green Book\n",
      "Children of Heaven\n",
      "The Treasure of the Sierra Madre\n",
      "The Great Escape\n",
      "Raging Bull\n",
      "Pan's Labyrinth\n",
      "My Neighbor Totoro\n",
      "Howl's Moving Castle\n",
      "Ran\n",
      "Chinatown\n",
      "The Secret in Their Eyes\n",
      "A Beautiful Mind\n",
      "Judgment at Nuremberg\n",
      "My Father and My Son\n",
      "Casino\n",
      "Lock, Stock and Two Smoking Barrels\n",
      "The Gold Rush\n",
      "The Third Man\n",
      "Three Billboards Outside Ebbing, Missouri\n",
      "The Wolf of Wall Street\n",
      "The Seventh Seal\n",
      "The Bridge on the River Kwai\n",
      "Inside Out\n",
      "The Elephant Man\n",
      "Come and See\n",
      "V for Vendetta\n",
      "On the Waterfront\n",
      "Dial M for Murder\n",
      "There Will Be Blood\n",
      "Warrior\n",
      "Room\n",
      "No Country for Old Men\n",
      "Trainspotting\n",
      "Blade Runner\n",
      "The Sixth Sense\n",
      "Wild Strawberries\n",
      "Gone with the Wind\n",
      "The Thing\n",
      "Andhadhun\n",
      "Mr. Smith Goes to Washington\n",
      "Fargo\n",
      "Finding Nemo\n",
      "The General\n",
      "Shutter Island\n",
      "Gran Torino\n",
      "The Deer Hunter\n",
      "Toy Story 4\n",
      "Kill Bill: Vol. 1\n",
      "The Big Lebowski\n",
      "Tokyo Story\n",
      "Jurassic Park\n",
      "Mary and Max\n",
      "Sherlock Jr.\n",
      "Hacksaw Ridge\n",
      "Wild Tales\n",
      "Gone Girl\n",
      "How to Train Your Dragon\n",
      "The Truman Show\n",
      "Cool Hand Luke\n",
      "Stalker\n",
      "In the Name of the Father\n",
      "The Bandit\n",
      "The Grand Budapest Hotel\n",
      "Rebecca\n",
      "Memories of Murder\n",
      "Persona\n",
      "Into the Wild\n",
      "Stand by Me\n",
      "Network\n",
      "Before Sunrise\n",
      "Platoon\n",
      "Monty Python's Life of Brian\n",
      "12 Years a Slave\n",
      "Ben-Hur\n",
      "Prisoners\n",
      "Million Dollar Baby\n",
      "Catch Me If You Can\n",
      "Mad Max: Fury Road\n",
      "The Wages of Fear\n",
      "Hotel Rwanda\n",
      "It Happened One Night\n",
      "Andrei Rublev\n",
      "Rush\n",
      "Hachi: A Dog's Tale\n",
      "Logan\n",
      "The Passion of Joan of Arc\n",
      "The 400 Blows\n",
      "Amores Perros\n",
      "Sunrise\n",
      "Spotlight\n",
      "Harry Potter and the Deathly Hallows: Part 2\n",
      "Nausicaä of the Valley of the Wind\n",
      "Rang De Basanti\n",
      "Barry Lyndon\n",
      "Rocky\n",
      "The Princess Bride\n",
      "Dead Poets Society\n",
      "Monsters, Inc.\n",
      "Neon Genesis Evangelion: The End of Evangelion\n",
      "Butch Cassidy and the Sundance Kid\n",
      "La Haine\n",
      "The Handmaiden\n",
      "The Terminator\n",
      "Gangs of Wasseypur\n",
      "Lagaan: Once Upon a Time in India\n",
      "In the Mood for Love\n",
      "The Help\n",
      "Munna Bhai M.B.B.S.\n",
      "Gandhi\n",
      "The Grapes of Wrath\n",
      "Groundhog Day\n",
      "Before Sunset\n",
      "Guardians of the Galaxy\n",
      "Swades\n",
      "Donnie Darko\n",
      "Drishyam\n",
      "PK\n",
      "A Wednesday\n",
      "Paris, Texas\n",
      "The Battle of Algiers\n",
      "Akira\n",
      "The Mirror\n",
      "Castle in the Sky\n",
      "The Legend of 1900\n"
     ]
    }
   ],
   "source": [
    "for i in range(len(top)):\n",
    "    print(top[i])"
   ]
  }
 ],
 "metadata": {
  "kernelspec": {
   "display_name": "Python 3",
   "language": "python",
   "name": "python3"
  },
  "language_info": {
   "codemirror_mode": {
    "name": "ipython",
    "version": 3
   },
   "file_extension": ".py",
   "mimetype": "text/x-python",
   "name": "python",
   "nbconvert_exporter": "python",
   "pygments_lexer": "ipython3",
   "version": "3.6.3"
  }
 },
 "nbformat": 4,
 "nbformat_minor": 2
}
