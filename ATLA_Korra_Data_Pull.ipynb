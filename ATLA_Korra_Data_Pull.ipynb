{
 "cells": [
  {
   "cell_type": "code",
   "execution_count": 1,
   "metadata": {
    "collapsed": true
   },
   "outputs": [],
   "source": [
    "import imdb\n",
    "import pandas as pd"
   ]
  },
  {
   "cell_type": "code",
   "execution_count": 2,
   "metadata": {
    "collapsed": true
   },
   "outputs": [],
   "source": [
    "ia = imdb.IMDb()"
   ]
  },
  {
   "cell_type": "code",
   "execution_count": 3,
   "metadata": {
    "collapsed": true
   },
   "outputs": [],
   "source": [
    "tv_show = ia.search_movie('avatar')"
   ]
  },
  {
   "cell_type": "code",
   "execution_count": 4,
   "metadata": {
    "collapsed": false
   },
   "outputs": [
    {
     "data": {
      "text/plain": [
       "[<Movie id:0499549[http] title:_Avatar (2009)_>,\n",
       " <Movie id:0417299[http] title:_\"Avatar: The Last Airbender\" (2005)_>,\n",
       " <Movie id:0120347[http] title:_Tomorrow Never Dies (1997)_>,\n",
       " <Movie id:1630029[http] title:_Avatar 2 (2021)_>,\n",
       " <Movie id:1695360[http] title:_\"The Legend of Korra\" (2012)_>,\n",
       " <Movie id:0938283[http] title:_The Last Airbender (2010)_>,\n",
       " <Movie id:1133985[http] title:_Green Lantern (2011)_>,\n",
       " <Movie id:9018736[http] title:_\"Avatar: The Last Airbender\" (None)_>,\n",
       " <Movie id:1757678[http] title:_Avatar 3 (2023)_>,\n",
       " <Movie id:5637536[http] title:_Avatar 5 (2027)_>,\n",
       " <Movie id:3095356[http] title:_Avatar 4 (2025)_>,\n",
       " <Movie id:2926746[http] title:_\"The Avatars\" (2013)_>,\n",
       " <Movie id:6859260[http] title:_\"The King's Avatar\" (2017)_>,\n",
       " <Movie id:4727514[http] title:_The Last Avatar (2014)_>,\n",
       " <Movie id:1775309[http] title:_Avatar (2011)_>,\n",
       " <Movie id:1900832[http] title:_Avatar Spirits (2010)_>,\n",
       " <Movie id:1517155[http] title:_Avatar: The Game (2009) (VG)_>,\n",
       " <Movie id:10732794[http] title:_\"The King's Avatar\" (2019)_>,\n",
       " <Movie id:5863892[http] title:_Avatar (2016) (V)_>,\n",
       " <Movie id:0497595[http] title:_Avatar (2005)_>]"
      ]
     },
     "execution_count": 4,
     "metadata": {},
     "output_type": "execute_result"
    }
   ],
   "source": [
    "ia.search_movie('avatar')"
   ]
  },
  {
   "cell_type": "code",
   "execution_count": 5,
   "metadata": {
    "collapsed": false
   },
   "outputs": [
    {
     "name": "stdout",
     "output_type": "stream",
     "text": [
      "[<Movie id:0499549[http] title:_Avatar (2009)_>, <Movie id:0417299[http] title:_\"Avatar: The Last Airbender\" (2005)_>, <Movie id:0120347[http] title:_Tomorrow Never Dies (1997)_>, <Movie id:1630029[http] title:_Avatar 2 (2021)_>, <Movie id:1695360[http] title:_\"The Legend of Korra\" (2012)_>, <Movie id:0938283[http] title:_The Last Airbender (2010)_>, <Movie id:1133985[http] title:_Green Lantern (2011)_>, <Movie id:9018736[http] title:_\"Avatar: The Last Airbender\" (None)_>, <Movie id:1757678[http] title:_Avatar 3 (2023)_>, <Movie id:5637536[http] title:_Avatar 5 (2027)_>, <Movie id:3095356[http] title:_Avatar 4 (2025)_>, <Movie id:2926746[http] title:_\"The Avatars\" (2013)_>, <Movie id:6859260[http] title:_\"The King's Avatar\" (2017)_>, <Movie id:4727514[http] title:_The Last Avatar (2014)_>, <Movie id:1775309[http] title:_Avatar (2011)_>, <Movie id:1900832[http] title:_Avatar Spirits (2010)_>, <Movie id:1517155[http] title:_Avatar: The Game (2009) (VG)_>, <Movie id:10732794[http] title:_\"The King's Avatar\" (2019)_>, <Movie id:5863892[http] title:_Avatar (2016) (V)_>, <Movie id:0497595[http] title:_Avatar (2005)_>]\n",
      "<class 'list'>\n"
     ]
    }
   ],
   "source": [
    "print(tv_show)\n",
    "print(type(tv_show))"
   ]
  },
  {
   "cell_type": "code",
   "execution_count": 6,
   "metadata": {
    "collapsed": false
   },
   "outputs": [
    {
     "name": "stdout",
     "output_type": "stream",
     "text": [
      "Avatar\n",
      "Avatar: The Last Airbender\n",
      "Tomorrow Never Dies\n",
      "Avatar 2\n",
      "The Legend of Korra\n",
      "The Last Airbender\n",
      "Green Lantern\n",
      "Avatar: The Last Airbender\n",
      "Avatar 3\n",
      "Avatar 5\n",
      "Avatar 4\n",
      "The Avatars\n",
      "The King's Avatar\n",
      "The Last Avatar\n",
      "Avatar\n",
      "Avatar Spirits\n",
      "Avatar: The Game\n",
      "The King's Avatar\n",
      "Avatar\n",
      "Avatar\n"
     ]
    }
   ],
   "source": [
    "# if just take the value as is, you will get an IMDB movie object. \n",
    "# instead, need to convert it to a list before pulling this in\n",
    "for i in range(len(tv_show)):\n",
    "    print(tv_show[i])"
   ]
  },
  {
   "cell_type": "code",
   "execution_count": 7,
   "metadata": {
    "collapsed": true
   },
   "outputs": [],
   "source": [
    "id_list = []\n",
    "\n",
    "for i in range(len(tv_show)):\n",
    "    temp_list = tv_show[i].getID()\n",
    "    id_list.append(temp_list)"
   ]
  },
  {
   "cell_type": "code",
   "execution_count": 8,
   "metadata": {
    "collapsed": true
   },
   "outputs": [],
   "source": [
    "title_list = []\n",
    "\n",
    "for i in range(len(tv_show)):\n",
    "    temp_list = str(tv_show[i]) #needs to be a str otherwise pull it in as a IMDB.movie.movie object...\n",
    "    title_list.append(temp_list)"
   ]
  },
  {
   "cell_type": "code",
   "execution_count": 9,
   "metadata": {
    "collapsed": true
   },
   "outputs": [],
   "source": [
    "#allows me to get movies and their ids into a pandas df for easier searching and manipulation in the future\n",
    "new_df = pd.DataFrame()\n",
    "\n",
    "new_df['id'] = id_list\n",
    "new_df['title'] = title_list"
   ]
  },
  {
   "cell_type": "code",
   "execution_count": 10,
   "metadata": {
    "collapsed": false
   },
   "outputs": [
    {
     "data": {
      "text/html": [
       "<div>\n",
       "<style scoped>\n",
       "    .dataframe tbody tr th:only-of-type {\n",
       "        vertical-align: middle;\n",
       "    }\n",
       "\n",
       "    .dataframe tbody tr th {\n",
       "        vertical-align: top;\n",
       "    }\n",
       "\n",
       "    .dataframe thead th {\n",
       "        text-align: right;\n",
       "    }\n",
       "</style>\n",
       "<table border=\"1\" class=\"dataframe\">\n",
       "  <thead>\n",
       "    <tr style=\"text-align: right;\">\n",
       "      <th></th>\n",
       "      <th>id</th>\n",
       "      <th>title</th>\n",
       "    </tr>\n",
       "  </thead>\n",
       "  <tbody>\n",
       "    <tr>\n",
       "      <th>0</th>\n",
       "      <td>0499549</td>\n",
       "      <td>Avatar</td>\n",
       "    </tr>\n",
       "    <tr>\n",
       "      <th>1</th>\n",
       "      <td>0417299</td>\n",
       "      <td>Avatar: The Last Airbender</td>\n",
       "    </tr>\n",
       "    <tr>\n",
       "      <th>2</th>\n",
       "      <td>0120347</td>\n",
       "      <td>Tomorrow Never Dies</td>\n",
       "    </tr>\n",
       "    <tr>\n",
       "      <th>3</th>\n",
       "      <td>1630029</td>\n",
       "      <td>Avatar 2</td>\n",
       "    </tr>\n",
       "    <tr>\n",
       "      <th>4</th>\n",
       "      <td>1695360</td>\n",
       "      <td>The Legend of Korra</td>\n",
       "    </tr>\n",
       "  </tbody>\n",
       "</table>\n",
       "</div>"
      ],
      "text/plain": [
       "        id                       title\n",
       "0  0499549                      Avatar\n",
       "1  0417299  Avatar: The Last Airbender\n",
       "2  0120347         Tomorrow Never Dies\n",
       "3  1630029                    Avatar 2\n",
       "4  1695360         The Legend of Korra"
      ]
     },
     "execution_count": 10,
     "metadata": {},
     "output_type": "execute_result"
    }
   ],
   "source": [
    "new_df.head()"
   ]
  },
  {
   "cell_type": "code",
   "execution_count": 11,
   "metadata": {
    "collapsed": true
   },
   "outputs": [],
   "source": [
    "korra_episodes = ia.get_movie_episodes('1695360')"
   ]
  },
  {
   "cell_type": "code",
   "execution_count": null,
   "metadata": {
    "collapsed": true
   },
   "outputs": [],
   "source": [
    "#read more about iterating through dictionaries\n",
    "#https://realpython.com/iterate-through-dictionary-python/"
   ]
  },
  {
   "cell_type": "code",
   "execution_count": null,
   "metadata": {
    "collapsed": true
   },
   "outputs": [],
   "source": [
    "#https://www.omdbapi.com/\n",
    "\n",
    "#another api to check out... "
   ]
  },
  {
   "cell_type": "code",
   "execution_count": 104,
   "metadata": {
    "collapsed": false
   },
   "outputs": [
    {
     "ename": "TypeError",
     "evalue": "unsupported operand type(s) for &: 'str' and 'str'",
     "output_type": "error",
     "traceback": [
      "\u001b[0;31m---------------------------------------------------------------------------\u001b[0m",
      "\u001b[0;31mTypeError\u001b[0m                                 Traceback (most recent call last)",
      "\u001b[0;32m<ipython-input-104-d5e83013a1a8>\u001b[0m in \u001b[0;36m<module>\u001b[0;34m()\u001b[0m\n\u001b[1;32m      1\u001b[0m \u001b[0;31m#can get movie empisodes take multiple items?\u001b[0m\u001b[0;34m\u001b[0m\u001b[0;34m\u001b[0m\u001b[0m\n\u001b[0;32m----> 2\u001b[0;31m \u001b[0mavatar_episodes\u001b[0m \u001b[0;34m=\u001b[0m \u001b[0mia\u001b[0m\u001b[0;34m.\u001b[0m\u001b[0mget_movie_episodes\u001b[0m\u001b[0;34m(\u001b[0m\u001b[0;34m'1695360'\u001b[0m\u001b[0;34m&\u001b[0m\u001b[0;34m'0417299'\u001b[0m\u001b[0;34m)\u001b[0m\u001b[0;34m\u001b[0m\u001b[0m\n\u001b[0m",
      "\u001b[0;31mTypeError\u001b[0m: unsupported operand type(s) for &: 'str' and 'str'"
     ]
    }
   ],
   "source": [
    "#can get movie empisodes take multiple items?\n",
    "avatar_episodes = ia.get_movie_episodes('1695360'&'0417299')"
   ]
  },
  {
   "cell_type": "code",
   "execution_count": 12,
   "metadata": {
    "collapsed": false
   },
   "outputs": [
    {
     "data": {
      "text/plain": [
       "dict"
      ]
     },
     "execution_count": 12,
     "metadata": {},
     "output_type": "execute_result"
    }
   ],
   "source": [
    "type(korra_episodes)"
   ]
  },
  {
   "cell_type": "code",
   "execution_count": 13,
   "metadata": {
    "collapsed": false
   },
   "outputs": [
    {
     "data": {
      "text/plain": [
       "3"
      ]
     },
     "execution_count": 13,
     "metadata": {},
     "output_type": "execute_result"
    }
   ],
   "source": [
    "len(korra_episodes)\n",
    "#3 pairs in the dictionary?"
   ]
  },
  {
   "cell_type": "code",
   "execution_count": 31,
   "metadata": {
    "collapsed": false
   },
   "outputs": [],
   "source": [
    "korra_ep = korra_episodes['data'].get('episodes')"
   ]
  },
  {
   "cell_type": "code",
   "execution_count": 75,
   "metadata": {
    "collapsed": false
   },
   "outputs": [
    {
     "name": "stdout",
     "output_type": "stream",
     "text": [
      "{1: <Movie id:2150017[http] title:_\"The Legend of Korra (TV Series 2012–2014) - IMDb\" Welcome to Republic City (2012)_>, 2: <Movie id:2315621[http] title:_\"The Legend of Korra (TV Series 2012–2014) - IMDb\" A Leaf in the Wind (2012)_>, 3: <Movie id:2388409[http] title:_\"The Legend of Korra (TV Series 2012–2014) - IMDb\" The Revelation (2012)_>, 4: <Movie id:2353307[http] title:_\"The Legend of Korra (TV Series 2012–2014) - IMDb\" The Voice in the Night (2012)_>, 5: <Movie id:2353317[http] title:_\"The Legend of Korra (TV Series 2012–2014) - IMDb\" The Spirit of Competition (2012)_>, 6: <Movie id:2353315[http] title:_\"The Legend of Korra (TV Series 2012–2014) - IMDb\" And the Winner Is... (2012)_>, 7: <Movie id:2353309[http] title:_\"The Legend of Korra (TV Series 2012–2014) - IMDb\" The Aftermath (2012)_>, 8: <Movie id:2353311[http] title:_\"The Legend of Korra (TV Series 2012–2014) - IMDb\" When Extremes Meet (2012)_>, 9: <Movie id:2353313[http] title:_\"The Legend of Korra (TV Series 2012–2014) - IMDb\" Out of the Past (2012)_>, 10: <Movie id:2353305[http] title:_\"The Legend of Korra (TV Series 2012–2014) - IMDb\" Turning the Tides (2012)_>, 11: <Movie id:2198968[http] title:_\"The Legend of Korra (TV Series 2012–2014) - IMDb\" Skeletons in the Closet (2012)_>, 12: <Movie id:2198738[http] title:_\"The Legend of Korra (TV Series 2012–2014) - IMDb\" Endgame (2012)_>}\n",
      "{1: <Movie id:2268096[http] title:_\"The Legend of Korra (TV Series 2012–2014) - IMDb\" Rebel Spirit (2013)_>, 2: <Movie id:2268100[http] title:_\"The Legend of Korra (TV Series 2012–2014) - IMDb\" The Southern Lights (2013)_>, 3: <Movie id:2268104[http] title:_\"The Legend of Korra (TV Series 2012–2014) - IMDb\" Civil Wars: Part 1 (2013)_>, 4: <Movie id:2268114[http] title:_\"The Legend of Korra (TV Series 2012–2014) - IMDb\" Civil Wars: Part 2 (2013)_>, 5: <Movie id:2268102[http] title:_\"The Legend of Korra (TV Series 2012–2014) - IMDb\" Peacekeepers (2013)_>, 6: <Movie id:2268108[http] title:_\"The Legend of Korra (TV Series 2012–2014) - IMDb\" The Sting (2013)_>, 7: <Movie id:2268118[http] title:_\"The Legend of Korra (TV Series 2012–2014) - IMDb\" Beginnings, Part 1 (2013)_>, 8: <Movie id:2268126[http] title:_\"The Legend of Korra (TV Series 2012–2014) - IMDb\" Beginnings, Part 2 (2013)_>, 9: <Movie id:2268120[http] title:_\"The Legend of Korra (TV Series 2012–2014) - IMDb\" The Guide (2013)_>, 10: <Movie id:2268124[http] title:_\"The Legend of Korra (TV Series 2012–2014) - IMDb\" A New Spiritual Age (2013)_>, 11: <Movie id:2268116[http] title:_\"The Legend of Korra (TV Series 2012–2014) - IMDb\" Night of a Thousand Stars (2013)_>, 12: <Movie id:2268112[http] title:_\"The Legend of Korra (TV Series 2012–2014) - IMDb\" Harmonic Convergence (2013)_>, 13: <Movie id:2268110[http] title:_\"The Legend of Korra (TV Series 2012–2014) - IMDb\" Darkness Falls (2013)_>, 14: <Movie id:2268122[http] title:_\"The Legend of Korra (TV Series 2012–2014) - IMDb\" Light in the Dark (2013)_>}\n",
      "{1: <Movie id:3550190[http] title:_\"The Legend of Korra (TV Series 2012–2014) - IMDb\" A Breath of Fresh Air (2014)_>, 2: <Movie id:3797652[http] title:_\"The Legend of Korra (TV Series 2012–2014) - IMDb\" Rebirth (2014)_>, 3: <Movie id:3797656[http] title:_\"The Legend of Korra (TV Series 2012–2014) - IMDb\" The Earth Queen (2014)_>, 4: <Movie id:3797654[http] title:_\"The Legend of Korra (TV Series 2012–2014) - IMDb\" In Harm's Way (2014)_>, 5: <Movie id:3797658[http] title:_\"The Legend of Korra (TV Series 2012–2014) - IMDb\" The Metal Clan (2014)_>, 6: <Movie id:3797660[http] title:_\"The Legend of Korra (TV Series 2012–2014) - IMDb\" Old Wounds (2014)_>, 7: <Movie id:3859534[http] title:_\"The Legend of Korra (TV Series 2012–2014) - IMDb\" Original Airbenders (2014)_>, 8: <Movie id:3865208[http] title:_\"The Legend of Korra (TV Series 2012–2014) - IMDb\" The Terror Within (2014)_>, 9: <Movie id:3865210[http] title:_\"The Legend of Korra (TV Series 2012–2014) - IMDb\" The Stakeout (2014)_>, 10: <Movie id:3865212[http] title:_\"The Legend of Korra (TV Series 2012–2014) - IMDb\" Long Live the Queen (2014)_>, 11: <Movie id:3865214[http] title:_\"The Legend of Korra (TV Series 2012–2014) - IMDb\" The Ultimatum (2014)_>, 12: <Movie id:3865216[http] title:_\"The Legend of Korra (TV Series 2012–2014) - IMDb\" Enter the Void (2014)_>, 13: <Movie id:3865220[http] title:_\"The Legend of Korra (TV Series 2012–2014) - IMDb\" Venom of the Red Lotus (2014)_>}\n",
      "{1: <Movie id:4030586[http] title:_\"The Legend of Korra (TV Series 2012–2014) - IMDb\" After All These Years (2014)_>, 2: <Movie id:4030588[http] title:_\"The Legend of Korra (TV Series 2012–2014) - IMDb\" Korra Alone (2014)_>, 3: <Movie id:4030590[http] title:_\"The Legend of Korra (TV Series 2012–2014) - IMDb\" The Coronation (2014)_>, 4: <Movie id:4030596[http] title:_\"The Legend of Korra (TV Series 2012–2014) - IMDb\" The Calling (2014)_>, 5: <Movie id:4108622[http] title:_\"The Legend of Korra (TV Series 2012–2014) - IMDb\" Enemy at the Gates (2014)_>, 6: <Movie id:4122656[http] title:_\"The Legend of Korra (TV Series 2012–2014) - IMDb\" The Battle of Zaofu (2014)_>, 7: <Movie id:4122662[http] title:_\"The Legend of Korra (TV Series 2012–2014) - IMDb\" Reunion (2014)_>, 8: <Movie id:4122672[http] title:_\"The Legend of Korra (TV Series 2012–2014) - IMDb\" Remembrances (2014)_>, 9: <Movie id:4122680[http] title:_\"The Legend of Korra (TV Series 2012–2014) - IMDb\" Beyond the Wilds (2014)_>, 10: <Movie id:4122678[http] title:_\"The Legend of Korra (TV Series 2012–2014) - IMDb\" Operation Beifong (2014)_>, 11: <Movie id:4122688[http] title:_\"The Legend of Korra (TV Series 2012–2014) - IMDb\" Kuvira's Gambit (2014)_>, 12: <Movie id:4122690[http] title:_\"The Legend of Korra (TV Series 2012–2014) - IMDb\" Day of the Colossus (2014)_>, 13: <Movie id:4122708[http] title:_\"The Legend of Korra (TV Series 2012–2014) - IMDb\" The Last Stand (2014)_>}\n"
     ]
    }
   ],
   "source": [
    "for key in korra_ep:\n",
    "    print(korra_ep[key])"
   ]
  },
  {
   "cell_type": "code",
   "execution_count": 78,
   "metadata": {
    "collapsed": false
   },
   "outputs": [
    {
     "name": "stdout",
     "output_type": "stream",
     "text": [
      "(1, <Movie id:2150017[http] title:_\"The Legend of Korra (TV Series 2012–2014) - IMDb\" Welcome to Republic City (2012)_>)\n",
      "(2, <Movie id:2315621[http] title:_\"The Legend of Korra (TV Series 2012–2014) - IMDb\" A Leaf in the Wind (2012)_>)\n",
      "(3, <Movie id:2388409[http] title:_\"The Legend of Korra (TV Series 2012–2014) - IMDb\" The Revelation (2012)_>)\n",
      "(4, <Movie id:2353307[http] title:_\"The Legend of Korra (TV Series 2012–2014) - IMDb\" The Voice in the Night (2012)_>)\n",
      "(5, <Movie id:2353317[http] title:_\"The Legend of Korra (TV Series 2012–2014) - IMDb\" The Spirit of Competition (2012)_>)\n",
      "(6, <Movie id:2353315[http] title:_\"The Legend of Korra (TV Series 2012–2014) - IMDb\" And the Winner Is... (2012)_>)\n",
      "(7, <Movie id:2353309[http] title:_\"The Legend of Korra (TV Series 2012–2014) - IMDb\" The Aftermath (2012)_>)\n",
      "(8, <Movie id:2353311[http] title:_\"The Legend of Korra (TV Series 2012–2014) - IMDb\" When Extremes Meet (2012)_>)\n",
      "(9, <Movie id:2353313[http] title:_\"The Legend of Korra (TV Series 2012–2014) - IMDb\" Out of the Past (2012)_>)\n",
      "(10, <Movie id:2353305[http] title:_\"The Legend of Korra (TV Series 2012–2014) - IMDb\" Turning the Tides (2012)_>)\n",
      "(11, <Movie id:2198968[http] title:_\"The Legend of Korra (TV Series 2012–2014) - IMDb\" Skeletons in the Closet (2012)_>)\n",
      "(12, <Movie id:2198738[http] title:_\"The Legend of Korra (TV Series 2012–2014) - IMDb\" Endgame (2012)_>)\n"
     ]
    }
   ],
   "source": [
    "for item in korra_ep[1].items():\n",
    "    print(item)"
   ]
  },
  {
   "cell_type": "code",
   "execution_count": 79,
   "metadata": {
    "collapsed": false
   },
   "outputs": [
    {
     "data": {
      "text/plain": [
       "dict"
      ]
     },
     "execution_count": 79,
     "metadata": {},
     "output_type": "execute_result"
    }
   ],
   "source": [
    "type(korra_ep[1][1].data)"
   ]
  },
  {
   "cell_type": "code",
   "execution_count": 49,
   "metadata": {
    "collapsed": true
   },
   "outputs": [],
   "source": [
    "my_dict = korra_ep[1][1].data"
   ]
  },
  {
   "cell_type": "code",
   "execution_count": 85,
   "metadata": {
    "collapsed": false
   },
   "outputs": [
    {
     "name": "stdout",
     "output_type": "stream",
     "text": [
      "dict_keys([1, 2, 3, 4, 5, 6, 7, 8, 9, 10, 11, 12])\n",
      "<class 'dict_keys'>\n",
      "12\n"
     ]
    }
   ],
   "source": [
    "print(korra_ep[1].keys())\n",
    "print(type(korra_ep[1].keys()))\n",
    "print(len(korra_ep[1].keys()))"
   ]
  },
  {
   "cell_type": "code",
   "execution_count": 99,
   "metadata": {
    "collapsed": false
   },
   "outputs": [
    {
     "name": "stdout",
     "output_type": "stream",
     "text": [
      "1\n",
      "2\n",
      "3\n",
      "4\n",
      "5\n",
      "6\n",
      "7\n",
      "8\n",
      "9\n",
      "10\n",
      "11\n",
      "12\n"
     ]
    }
   ],
   "source": [
    "# inital loop working for the season 1. Will eventually need to make a loop of a loop\n",
    "#working loop! figure out how to zoom out one. Then can clean data later.  \n",
    "\n",
    "df_master = pd.DataFrame()\n",
    "\n",
    "for x in korra_ep[1].keys():\n",
    "    temp_dict = korra_ep[1][x].data\n",
    "    temp_df = pd.DataFrame(temp_dict, index = [0])\n",
    "    temp_df['episode of'] = temp_df['episode of'].astype(str)\n",
    "    df_master = df_master.append(temp_df)\n",
    "    print(x)"
   ]
  },
  {
   "cell_type": "code",
   "execution_count": 100,
   "metadata": {
    "collapsed": false
   },
   "outputs": [
    {
     "data": {
      "text/html": [
       "<div>\n",
       "<style scoped>\n",
       "    .dataframe tbody tr th:only-of-type {\n",
       "        vertical-align: middle;\n",
       "    }\n",
       "\n",
       "    .dataframe tbody tr th {\n",
       "        vertical-align: top;\n",
       "    }\n",
       "\n",
       "    .dataframe thead th {\n",
       "        text-align: right;\n",
       "    }\n",
       "</style>\n",
       "<table border=\"1\" class=\"dataframe\">\n",
       "  <thead>\n",
       "    <tr style=\"text-align: right;\">\n",
       "      <th></th>\n",
       "      <th>episode</th>\n",
       "      <th>episode of</th>\n",
       "      <th>kind</th>\n",
       "      <th>original air date</th>\n",
       "      <th>plot</th>\n",
       "      <th>rating</th>\n",
       "      <th>season</th>\n",
       "      <th>title</th>\n",
       "      <th>votes</th>\n",
       "      <th>year</th>\n",
       "    </tr>\n",
       "  </thead>\n",
       "  <tbody>\n",
       "    <tr>\n",
       "      <th>0</th>\n",
       "      <td>1</td>\n",
       "      <td>The Legend of Korra (TV Series 2012–2014) - IMDb</td>\n",
       "      <td>episode</td>\n",
       "      <td>14 Apr. 2012</td>\n",
       "      <td>\\n    Korra, the new Avatar, travels to Republ...</td>\n",
       "      <td>8.501235</td>\n",
       "      <td>1</td>\n",
       "      <td>Welcome to Republic City</td>\n",
       "      <td>1744</td>\n",
       "      <td>2012</td>\n",
       "    </tr>\n",
       "    <tr>\n",
       "      <th>0</th>\n",
       "      <td>2</td>\n",
       "      <td>The Legend of Korra (TV Series 2012–2014) - IMDb</td>\n",
       "      <td>episode</td>\n",
       "      <td>14 Apr. 2012</td>\n",
       "      <td>\\n    Against Tenzin's prohibition, a frustrat...</td>\n",
       "      <td>8.501235</td>\n",
       "      <td>1</td>\n",
       "      <td>A Leaf in the Wind</td>\n",
       "      <td>1533</td>\n",
       "      <td>2012</td>\n",
       "    </tr>\n",
       "    <tr>\n",
       "      <th>0</th>\n",
       "      <td>3</td>\n",
       "      <td>The Legend of Korra (TV Series 2012–2014) - IMDb</td>\n",
       "      <td>episode</td>\n",
       "      <td>21 Apr. 2012</td>\n",
       "      <td>\\n    Korra attempts to infiltrate the Equalis...</td>\n",
       "      <td>8.501235</td>\n",
       "      <td>1</td>\n",
       "      <td>The Revelation</td>\n",
       "      <td>1375</td>\n",
       "      <td>2012</td>\n",
       "    </tr>\n",
       "    <tr>\n",
       "      <th>0</th>\n",
       "      <td>4</td>\n",
       "      <td>The Legend of Korra (TV Series 2012–2014) - IMDb</td>\n",
       "      <td>episode</td>\n",
       "      <td>28 Apr. 2012</td>\n",
       "      <td>\\n    Korra becomes part of Councilman Tarrlok...</td>\n",
       "      <td>8.401235</td>\n",
       "      <td>1</td>\n",
       "      <td>The Voice in the Night</td>\n",
       "      <td>1381</td>\n",
       "      <td>2012</td>\n",
       "    </tr>\n",
       "    <tr>\n",
       "      <th>0</th>\n",
       "      <td>5</td>\n",
       "      <td>The Legend of Korra (TV Series 2012–2014) - IMDb</td>\n",
       "      <td>episode</td>\n",
       "      <td>5 May 2012</td>\n",
       "      <td>\\n    As Asami steals Mako's heart, Korra stru...</td>\n",
       "      <td>8.101235</td>\n",
       "      <td>1</td>\n",
       "      <td>The Spirit of Competition</td>\n",
       "      <td>1382</td>\n",
       "      <td>2012</td>\n",
       "    </tr>\n",
       "    <tr>\n",
       "      <th>0</th>\n",
       "      <td>6</td>\n",
       "      <td>The Legend of Korra (TV Series 2012–2014) - IMDb</td>\n",
       "      <td>episode</td>\n",
       "      <td>12 May 2012</td>\n",
       "      <td>\\n    Korra and the Fire Ferrets are in the pr...</td>\n",
       "      <td>8.901235</td>\n",
       "      <td>1</td>\n",
       "      <td>And the Winner Is...</td>\n",
       "      <td>1425</td>\n",
       "      <td>2012</td>\n",
       "    </tr>\n",
       "    <tr>\n",
       "      <th>0</th>\n",
       "      <td>7</td>\n",
       "      <td>The Legend of Korra (TV Series 2012–2014) - IMDb</td>\n",
       "      <td>episode</td>\n",
       "      <td>19 May 2012</td>\n",
       "      <td>\\n    Korra suspects that an ally is working w...</td>\n",
       "      <td>8.601235</td>\n",
       "      <td>1</td>\n",
       "      <td>The Aftermath</td>\n",
       "      <td>1337</td>\n",
       "      <td>2012</td>\n",
       "    </tr>\n",
       "    <tr>\n",
       "      <th>0</th>\n",
       "      <td>8</td>\n",
       "      <td>The Legend of Korra (TV Series 2012–2014) - IMDb</td>\n",
       "      <td>episode</td>\n",
       "      <td>2 Jun. 2012</td>\n",
       "      <td>\\n    Korra faces off with Councilman Tarrlok ...</td>\n",
       "      <td>8.801235</td>\n",
       "      <td>1</td>\n",
       "      <td>When Extremes Meet</td>\n",
       "      <td>1358</td>\n",
       "      <td>2012</td>\n",
       "    </tr>\n",
       "    <tr>\n",
       "      <th>0</th>\n",
       "      <td>9</td>\n",
       "      <td>The Legend of Korra (TV Series 2012–2014) - IMDb</td>\n",
       "      <td>episode</td>\n",
       "      <td>9 Jun. 2012</td>\n",
       "      <td>\\n    After being imprisoned by Tarrlok, Korra...</td>\n",
       "      <td>8.901235</td>\n",
       "      <td>1</td>\n",
       "      <td>Out of the Past</td>\n",
       "      <td>1391</td>\n",
       "      <td>2012</td>\n",
       "    </tr>\n",
       "    <tr>\n",
       "      <th>0</th>\n",
       "      <td>10</td>\n",
       "      <td>The Legend of Korra (TV Series 2012–2014) - IMDb</td>\n",
       "      <td>episode</td>\n",
       "      <td>16 Jun. 2012</td>\n",
       "      <td>\\n    The Equalists begin their attack on Repu...</td>\n",
       "      <td>8.901235</td>\n",
       "      <td>1</td>\n",
       "      <td>Turning the Tides</td>\n",
       "      <td>1410</td>\n",
       "      <td>2012</td>\n",
       "    </tr>\n",
       "    <tr>\n",
       "      <th>0</th>\n",
       "      <td>11</td>\n",
       "      <td>The Legend of Korra (TV Series 2012–2014) - IMDb</td>\n",
       "      <td>episode</td>\n",
       "      <td>23 Jun. 2012</td>\n",
       "      <td>\\n    Korra and the rest of Team Avatar go int...</td>\n",
       "      <td>8.901235</td>\n",
       "      <td>1</td>\n",
       "      <td>Skeletons in the Closet</td>\n",
       "      <td>1412</td>\n",
       "      <td>2012</td>\n",
       "    </tr>\n",
       "    <tr>\n",
       "      <th>0</th>\n",
       "      <td>12</td>\n",
       "      <td>The Legend of Korra (TV Series 2012–2014) - IMDb</td>\n",
       "      <td>episode</td>\n",
       "      <td>23 Jun. 2012</td>\n",
       "      <td>\\n    The duel between Amon and Korra - will K...</td>\n",
       "      <td>9.201235</td>\n",
       "      <td>1</td>\n",
       "      <td>Endgame</td>\n",
       "      <td>1731</td>\n",
       "      <td>2012</td>\n",
       "    </tr>\n",
       "  </tbody>\n",
       "</table>\n",
       "</div>"
      ],
      "text/plain": [
       "   episode                                        episode of     kind  \\\n",
       "0        1  The Legend of Korra (TV Series 2012–2014) - IMDb  episode   \n",
       "0        2  The Legend of Korra (TV Series 2012–2014) - IMDb  episode   \n",
       "0        3  The Legend of Korra (TV Series 2012–2014) - IMDb  episode   \n",
       "0        4  The Legend of Korra (TV Series 2012–2014) - IMDb  episode   \n",
       "0        5  The Legend of Korra (TV Series 2012–2014) - IMDb  episode   \n",
       "0        6  The Legend of Korra (TV Series 2012–2014) - IMDb  episode   \n",
       "0        7  The Legend of Korra (TV Series 2012–2014) - IMDb  episode   \n",
       "0        8  The Legend of Korra (TV Series 2012–2014) - IMDb  episode   \n",
       "0        9  The Legend of Korra (TV Series 2012–2014) - IMDb  episode   \n",
       "0       10  The Legend of Korra (TV Series 2012–2014) - IMDb  episode   \n",
       "0       11  The Legend of Korra (TV Series 2012–2014) - IMDb  episode   \n",
       "0       12  The Legend of Korra (TV Series 2012–2014) - IMDb  episode   \n",
       "\n",
       "  original air date                                               plot  \\\n",
       "0      14 Apr. 2012  \\n    Korra, the new Avatar, travels to Republ...   \n",
       "0      14 Apr. 2012  \\n    Against Tenzin's prohibition, a frustrat...   \n",
       "0      21 Apr. 2012  \\n    Korra attempts to infiltrate the Equalis...   \n",
       "0      28 Apr. 2012  \\n    Korra becomes part of Councilman Tarrlok...   \n",
       "0        5 May 2012  \\n    As Asami steals Mako's heart, Korra stru...   \n",
       "0       12 May 2012  \\n    Korra and the Fire Ferrets are in the pr...   \n",
       "0       19 May 2012  \\n    Korra suspects that an ally is working w...   \n",
       "0       2 Jun. 2012  \\n    Korra faces off with Councilman Tarrlok ...   \n",
       "0       9 Jun. 2012  \\n    After being imprisoned by Tarrlok, Korra...   \n",
       "0      16 Jun. 2012  \\n    The Equalists begin their attack on Repu...   \n",
       "0      23 Jun. 2012  \\n    Korra and the rest of Team Avatar go int...   \n",
       "0      23 Jun. 2012  \\n    The duel between Amon and Korra - will K...   \n",
       "\n",
       "     rating  season                      title  votes  year  \n",
       "0  8.501235       1   Welcome to Republic City   1744  2012  \n",
       "0  8.501235       1         A Leaf in the Wind   1533  2012  \n",
       "0  8.501235       1             The Revelation   1375  2012  \n",
       "0  8.401235       1     The Voice in the Night   1381  2012  \n",
       "0  8.101235       1  The Spirit of Competition   1382  2012  \n",
       "0  8.901235       1       And the Winner Is...   1425  2012  \n",
       "0  8.601235       1              The Aftermath   1337  2012  \n",
       "0  8.801235       1         When Extremes Meet   1358  2012  \n",
       "0  8.901235       1            Out of the Past   1391  2012  \n",
       "0  8.901235       1          Turning the Tides   1410  2012  \n",
       "0  8.901235       1    Skeletons in the Closet   1412  2012  \n",
       "0  9.201235       1                    Endgame   1731  2012  "
      ]
     },
     "execution_count": 100,
     "metadata": {},
     "output_type": "execute_result"
    }
   ],
   "source": [
    "df_master"
   ]
  },
  {
   "cell_type": "code",
   "execution_count": 89,
   "metadata": {
    "collapsed": false
   },
   "outputs": [
    {
     "name": "stdout",
     "output_type": "stream",
     "text": [
      "{'plot': '\\n    The duel between Amon and Korra - will Korra be powerful enough to beat Amon?    ', 'votes': 1731, 'season': 1, 'year': '2012', 'title': 'Endgame', 'kind': 'episode', 'rating': 9.201234567891, 'episode': 12, 'episode of': <Movie id:1695360[http] title:_\"The Legend of Korra (TV Series 2012–2014) - IMDb\" (None)_>, 'original air date': '23 Jun. 2012'}\n"
     ]
    }
   ],
   "source": [
    "print(korra_ep[1][12].data)"
   ]
  },
  {
   "cell_type": "code",
   "execution_count": 80,
   "metadata": {
    "collapsed": false
   },
   "outputs": [
    {
     "data": {
      "text/plain": [
       "{'episode': 1,\n",
       " 'episode of': <Movie id:1695360[http] title:_\"The Legend of Korra (TV Series 2012–2014) - IMDb\" (None)_>,\n",
       " 'kind': 'episode',\n",
       " 'original air date': '14 Apr. 2012',\n",
       " 'plot': '\\n    Korra, the new Avatar, travels to Republic city to start her Airbending training.    ',\n",
       " 'rating': 8.501234567891,\n",
       " 'season': 1,\n",
       " 'title': 'Welcome to Republic City',\n",
       " 'votes': 1744,\n",
       " 'year': '2012'}"
      ]
     },
     "execution_count": 80,
     "metadata": {},
     "output_type": "execute_result"
    }
   ],
   "source": [
    "my_dict"
   ]
  },
  {
   "cell_type": "code",
   "execution_count": 63,
   "metadata": {
    "collapsed": false
   },
   "outputs": [],
   "source": [
    "df_se1_ep1 = pd.DataFrame(my_dict, index = [0])"
   ]
  },
  {
   "cell_type": "code",
   "execution_count": 59,
   "metadata": {
    "collapsed": false
   },
   "outputs": [],
   "source": [
    "df_se1_ep1['episode of'] = df_se1_ep1['episode of'].astype(str)"
   ]
  },
  {
   "cell_type": "code",
   "execution_count": 62,
   "metadata": {
    "collapsed": false
   },
   "outputs": [
    {
     "data": {
      "text/html": [
       "<div>\n",
       "<style scoped>\n",
       "    .dataframe tbody tr th:only-of-type {\n",
       "        vertical-align: middle;\n",
       "    }\n",
       "\n",
       "    .dataframe tbody tr th {\n",
       "        vertical-align: top;\n",
       "    }\n",
       "\n",
       "    .dataframe thead th {\n",
       "        text-align: right;\n",
       "    }\n",
       "</style>\n",
       "<table border=\"1\" class=\"dataframe\">\n",
       "  <thead>\n",
       "    <tr style=\"text-align: right;\">\n",
       "      <th></th>\n",
       "      <th>episode</th>\n",
       "      <th>episode of</th>\n",
       "      <th>kind</th>\n",
       "      <th>original air date</th>\n",
       "      <th>plot</th>\n",
       "      <th>rating</th>\n",
       "      <th>season</th>\n",
       "      <th>title</th>\n",
       "      <th>votes</th>\n",
       "      <th>year</th>\n",
       "    </tr>\n",
       "  </thead>\n",
       "  <tbody>\n",
       "    <tr>\n",
       "      <th>0</th>\n",
       "      <td>1</td>\n",
       "      <td>The Legend of Korra (TV Series 2012–2014) - IMDb</td>\n",
       "      <td>episode</td>\n",
       "      <td>14 Apr. 2012</td>\n",
       "      <td>\\n    Korra, the new Avatar, travels to Republ...</td>\n",
       "      <td>8.501235</td>\n",
       "      <td>1</td>\n",
       "      <td>Welcome to Republic City</td>\n",
       "      <td>1744</td>\n",
       "      <td>2012</td>\n",
       "    </tr>\n",
       "  </tbody>\n",
       "</table>\n",
       "</div>"
      ],
      "text/plain": [
       "   episode                                        episode of     kind  \\\n",
       "0        1  The Legend of Korra (TV Series 2012–2014) - IMDb  episode   \n",
       "\n",
       "  original air date                                               plot  \\\n",
       "0      14 Apr. 2012  \\n    Korra, the new Avatar, travels to Republ...   \n",
       "\n",
       "     rating  season                     title  votes  year  \n",
       "0  8.501235       1  Welcome to Republic City   1744  2012  "
      ]
     },
     "execution_count": 62,
     "metadata": {},
     "output_type": "execute_result"
    }
   ],
   "source": [
    "df_se1_ep1.head()"
   ]
  },
  {
   "cell_type": "code",
   "execution_count": 67,
   "metadata": {
    "collapsed": false
   },
   "outputs": [
    {
     "data": {
      "text/plain": [
       "dict_keys(['plot', 'votes', 'season', 'year', 'title', 'kind', 'rating', 'episode', 'episode of', 'original air date'])"
      ]
     },
     "execution_count": 67,
     "metadata": {},
     "output_type": "execute_result"
    }
   ],
   "source": [
    "my_dict.keys()"
   ]
  },
  {
   "cell_type": "code",
   "execution_count": 69,
   "metadata": {
    "collapsed": false
   },
   "outputs": [
    {
     "data": {
      "text/plain": [
       "['plot',\n",
       " 'votes',\n",
       " 'season',\n",
       " 'year',\n",
       " 'title',\n",
       " 'kind',\n",
       " 'rating',\n",
       " 'episode',\n",
       " 'episode of',\n",
       " 'original air date',\n",
       " 'canonical title',\n",
       " 'long imdb title',\n",
       " 'long imdb canonical title',\n",
       " 'smart canonical title',\n",
       " 'smart long imdb canonical title',\n",
       " 'long imdb episode title',\n",
       " 'series title',\n",
       " 'canonical series title',\n",
       " 'episode title',\n",
       " 'canonical episode title',\n",
       " 'smart canonical series title',\n",
       " 'smart canonical episode title']"
      ]
     },
     "execution_count": 69,
     "metadata": {},
     "output_type": "execute_result"
    }
   ],
   "source": [
    "#really don't need this too long\n",
    "#korra_ep[1][1].keys()"
   ]
  },
  {
   "cell_type": "code",
   "execution_count": 72,
   "metadata": {
    "collapsed": false
   },
   "outputs": [
    {
     "ename": "KeyError",
     "evalue": "0",
     "output_type": "error",
     "traceback": [
      "\u001b[0;31m---------------------------------------------------------------------------\u001b[0m",
      "\u001b[0;31mKeyError\u001b[0m                                  Traceback (most recent call last)",
      "\u001b[0;32m<ipython-input-72-8a4e5c84fee7>\u001b[0m in \u001b[0;36m<module>\u001b[0;34m()\u001b[0m\n\u001b[0;32m----> 1\u001b[0;31m \u001b[0;32mfor\u001b[0m \u001b[0mkeys\u001b[0m \u001b[0;32min\u001b[0m \u001b[0mkorra_ep\u001b[0m\u001b[0;34m[\u001b[0m\u001b[0;36m1\u001b[0m\u001b[0;34m]\u001b[0m\u001b[0;34m[\u001b[0m\u001b[0;36m1\u001b[0m\u001b[0;34m]\u001b[0m\u001b[0;34m:\u001b[0m\u001b[0;34m\u001b[0m\u001b[0m\n\u001b[0m\u001b[1;32m      2\u001b[0m     \u001b[0mprint\u001b[0m\u001b[0;34m(\u001b[0m\u001b[0mkeys\u001b[0m\u001b[0;34m)\u001b[0m\u001b[0;34m\u001b[0m\u001b[0m\n",
      "\u001b[0;32m//anaconda/lib/python3.5/site-packages/imdb/utils.py\u001b[0m in \u001b[0;36m__getitem__\u001b[0;34m(self, key)\u001b[0m\n\u001b[1;32m   1502\u001b[0m         \u001b[0;31m# Handle key aliases.\u001b[0m\u001b[0;34m\u001b[0m\u001b[0;34m\u001b[0m\u001b[0m\n\u001b[1;32m   1503\u001b[0m         \u001b[0mkey\u001b[0m \u001b[0;34m=\u001b[0m \u001b[0mself\u001b[0m\u001b[0;34m.\u001b[0m\u001b[0mkeys_alias\u001b[0m\u001b[0;34m.\u001b[0m\u001b[0mget\u001b[0m\u001b[0;34m(\u001b[0m\u001b[0mkey\u001b[0m\u001b[0;34m,\u001b[0m \u001b[0mkey\u001b[0m\u001b[0;34m)\u001b[0m\u001b[0;34m\u001b[0m\u001b[0m\n\u001b[0;32m-> 1504\u001b[0;31m         \u001b[0mrawData\u001b[0m \u001b[0;34m=\u001b[0m \u001b[0mself\u001b[0m\u001b[0;34m.\u001b[0m\u001b[0mdata\u001b[0m\u001b[0;34m[\u001b[0m\u001b[0mkey\u001b[0m\u001b[0;34m]\u001b[0m\u001b[0;34m\u001b[0m\u001b[0m\n\u001b[0m\u001b[1;32m   1505\u001b[0m         \u001b[0;32mif\u001b[0m \u001b[0mkey\u001b[0m \u001b[0;32min\u001b[0m \u001b[0mself\u001b[0m\u001b[0;34m.\u001b[0m\u001b[0mkeys_tomodify\u001b[0m \u001b[0;32mand\u001b[0m\u001b[0;31m \u001b[0m\u001b[0;31m\\\u001b[0m\u001b[0;34m\u001b[0m\u001b[0m\n\u001b[1;32m   1506\u001b[0m                 \u001b[0mself\u001b[0m\u001b[0;34m.\u001b[0m\u001b[0mmodFunct\u001b[0m \u001b[0;32mnot\u001b[0m \u001b[0;32min\u001b[0m \u001b[0;34m(\u001b[0m\u001b[0;32mNone\u001b[0m\u001b[0;34m,\u001b[0m \u001b[0mmodNull\u001b[0m\u001b[0;34m)\u001b[0m\u001b[0;34m:\u001b[0m\u001b[0;34m\u001b[0m\u001b[0m\n",
      "\u001b[0;31mKeyError\u001b[0m: 0"
     ]
    }
   ],
   "source": [
    "for keys in korra_ep[1][1]:\n",
    "    print(keys)"
   ]
  },
  {
   "cell_type": "code",
   "execution_count": 74,
   "metadata": {
    "collapsed": false
   },
   "outputs": [
    {
     "data": {
      "text/plain": [
       "'\"Legend of Korra (TV Series 2012–2014) - IMDb, The\" Welcome to Republic City (2012)'"
      ]
     },
     "execution_count": 74,
     "metadata": {},
     "output_type": "execute_result"
    }
   ],
   "source": [
    "korra_ep[1][1]['smart long imdb canonical title']"
   ]
  },
  {
   "cell_type": "code",
   "execution_count": 16,
   "metadata": {
    "collapsed": false
   },
   "outputs": [
    {
     "data": {
      "text/plain": [
       "dict_keys(['data', 'titlesRefs', 'namesRefs'])"
      ]
     },
     "execution_count": 16,
     "metadata": {},
     "output_type": "execute_result"
    }
   ],
   "source": [
    "korra_episodes.keys()"
   ]
  },
  {
   "cell_type": "code",
   "execution_count": 20,
   "metadata": {
    "collapsed": false
   },
   "outputs": [
    {
     "data": {
      "text/plain": [
       "dict_keys([4, 1, 2, 3])"
      ]
     },
     "execution_count": 20,
     "metadata": {},
     "output_type": "execute_result"
    }
   ],
   "source": [
    "#Can use a combination of subsetting into the dictionary\n",
    "#and using the keys to identify the next level to explore\n",
    "korra_episodes['data']['episodes'].keys()"
   ]
  },
  {
   "cell_type": "code",
   "execution_count": 26,
   "metadata": {
    "collapsed": false
   },
   "outputs": [
    {
     "data": {
      "text/plain": [
       "['title',\n",
       " 'kind',\n",
       " 'episode of',\n",
       " 'season',\n",
       " 'episode',\n",
       " 'rating',\n",
       " 'votes',\n",
       " 'original air date',\n",
       " 'year',\n",
       " 'plot',\n",
       " 'canonical title',\n",
       " 'long imdb title',\n",
       " 'long imdb canonical title',\n",
       " 'smart canonical title',\n",
       " 'smart long imdb canonical title',\n",
       " 'long imdb episode title',\n",
       " 'series title',\n",
       " 'canonical series title',\n",
       " 'episode title',\n",
       " 'canonical episode title',\n",
       " 'smart canonical series title',\n",
       " 'smart canonical episode title']"
      ]
     },
     "execution_count": 26,
     "metadata": {},
     "output_type": "execute_result"
    }
   ],
   "source": [
    "korra_episodes['data']['episodes'][1][1].keys()"
   ]
  },
  {
   "cell_type": "code",
   "execution_count": 35,
   "metadata": {
    "collapsed": false
   },
   "outputs": [
    {
     "ename": "TypeError",
     "evalue": "get() missing 1 required positional argument: 'key'",
     "output_type": "error",
     "traceback": [
      "\u001b[1;31m---------------------------------------------------------------------------\u001b[0m",
      "\u001b[1;31mTypeError\u001b[0m                                 Traceback (most recent call last)",
      "\u001b[1;32m<ipython-input-35-5eb10e4b61f0>\u001b[0m in \u001b[0;36m<module>\u001b[1;34m()\u001b[0m\n\u001b[1;32m----> 1\u001b[1;33m \u001b[0mkorra_episodes\u001b[0m\u001b[1;33m[\u001b[0m\u001b[1;34m'data'\u001b[0m\u001b[1;33m]\u001b[0m\u001b[1;33m[\u001b[0m\u001b[1;34m'episodes'\u001b[0m\u001b[1;33m]\u001b[0m\u001b[1;33m[\u001b[0m\u001b[1;36m1\u001b[0m\u001b[1;33m]\u001b[0m\u001b[1;33m[\u001b[0m\u001b[1;36m1\u001b[0m\u001b[1;33m]\u001b[0m\u001b[1;33m.\u001b[0m\u001b[0mget\u001b[0m\u001b[1;33m(\u001b[0m\u001b[1;33m)\u001b[0m\u001b[1;33m\u001b[0m\u001b[0m\n\u001b[0m",
      "\u001b[1;31mTypeError\u001b[0m: get() missing 1 required positional argument: 'key'"
     ]
    }
   ],
   "source": [
    "korra_episodes['data']['episodes'][1][1].get()"
   ]
  },
  {
   "cell_type": "code",
   "execution_count": 54,
   "metadata": {
    "collapsed": false
   },
   "outputs": [
    {
     "data": {
      "text/plain": [
       "<Movie id:2150017[http] title:_\"The Legend of Korra (TV Series 2012–2014) - IMDb\" Welcome to Republic City (2012)_>"
      ]
     },
     "execution_count": 54,
     "metadata": {},
     "output_type": "execute_result"
    }
   ],
   "source": [
    "#in the below example, first [1] is season and second is [episode #]\n",
    "korra_episodes['data']['episodes'][1][1]"
   ]
  },
  {
   "cell_type": "code",
   "execution_count": 34,
   "metadata": {
    "collapsed": false
   },
   "outputs": [
    {
     "data": {
      "text/plain": [
       "imdb.Movie.Movie"
      ]
     },
     "execution_count": 34,
     "metadata": {},
     "output_type": "execute_result"
    }
   ],
   "source": [
    "type(korra_episodes['data']['episodes'][1][1])"
   ]
  },
  {
   "cell_type": "code",
   "execution_count": null,
   "metadata": {
    "collapsed": true
   },
   "outputs": [],
   "source": []
  },
  {
   "cell_type": "code",
   "execution_count": null,
   "metadata": {
    "collapsed": true
   },
   "outputs": [],
   "source": []
  },
  {
   "cell_type": "code",
   "execution_count": 36,
   "metadata": {
    "collapsed": false
   },
   "outputs": [
    {
     "data": {
      "text/plain": [
       "{'episodes': {1: {1: <Movie id:2150017[http] title:_\"The Legend of Korra (TV Series 2012–2014) - IMDb\" Welcome to Republic City (2012)_>,\n",
       "   2: <Movie id:2315621[http] title:_\"The Legend of Korra (TV Series 2012–2014) - IMDb\" A Leaf in the Wind (2012)_>,\n",
       "   3: <Movie id:2388409[http] title:_\"The Legend of Korra (TV Series 2012–2014) - IMDb\" The Revelation (2012)_>,\n",
       "   4: <Movie id:2353307[http] title:_\"The Legend of Korra (TV Series 2012–2014) - IMDb\" The Voice in the Night (2012)_>,\n",
       "   5: <Movie id:2353317[http] title:_\"The Legend of Korra (TV Series 2012–2014) - IMDb\" The Spirit of Competition (2012)_>,\n",
       "   6: <Movie id:2353315[http] title:_\"The Legend of Korra (TV Series 2012–2014) - IMDb\" And the Winner Is... (2012)_>,\n",
       "   7: <Movie id:2353309[http] title:_\"The Legend of Korra (TV Series 2012–2014) - IMDb\" The Aftermath (2012)_>,\n",
       "   8: <Movie id:2353311[http] title:_\"The Legend of Korra (TV Series 2012–2014) - IMDb\" When Extremes Meet (2012)_>,\n",
       "   9: <Movie id:2353313[http] title:_\"The Legend of Korra (TV Series 2012–2014) - IMDb\" Out of the Past (2012)_>,\n",
       "   10: <Movie id:2353305[http] title:_\"The Legend of Korra (TV Series 2012–2014) - IMDb\" Turning the Tides (2012)_>,\n",
       "   11: <Movie id:2198968[http] title:_\"The Legend of Korra (TV Series 2012–2014) - IMDb\" Skeletons in the Closet (2012)_>,\n",
       "   12: <Movie id:2198738[http] title:_\"The Legend of Korra (TV Series 2012–2014) - IMDb\" Endgame (2012)_>},\n",
       "  2: {1: <Movie id:2268096[http] title:_\"The Legend of Korra (TV Series 2012–2014) - IMDb\" Rebel Spirit (2013)_>,\n",
       "   2: <Movie id:2268100[http] title:_\"The Legend of Korra (TV Series 2012–2014) - IMDb\" The Southern Lights (2013)_>,\n",
       "   3: <Movie id:2268104[http] title:_\"The Legend of Korra (TV Series 2012–2014) - IMDb\" Civil Wars: Part 1 (2013)_>,\n",
       "   4: <Movie id:2268114[http] title:_\"The Legend of Korra (TV Series 2012–2014) - IMDb\" Civil Wars: Part 2 (2013)_>,\n",
       "   5: <Movie id:2268102[http] title:_\"The Legend of Korra (TV Series 2012–2014) - IMDb\" Peacekeepers (2013)_>,\n",
       "   6: <Movie id:2268108[http] title:_\"The Legend of Korra (TV Series 2012–2014) - IMDb\" The Sting (2013)_>,\n",
       "   7: <Movie id:2268118[http] title:_\"The Legend of Korra (TV Series 2012–2014) - IMDb\" Beginnings, Part 1 (2013)_>,\n",
       "   8: <Movie id:2268126[http] title:_\"The Legend of Korra (TV Series 2012–2014) - IMDb\" Beginnings, Part 2 (2013)_>,\n",
       "   9: <Movie id:2268120[http] title:_\"The Legend of Korra (TV Series 2012–2014) - IMDb\" The Guide (2013)_>,\n",
       "   10: <Movie id:2268124[http] title:_\"The Legend of Korra (TV Series 2012–2014) - IMDb\" A New Spiritual Age (2013)_>,\n",
       "   11: <Movie id:2268116[http] title:_\"The Legend of Korra (TV Series 2012–2014) - IMDb\" Night of a Thousand Stars (2013)_>,\n",
       "   12: <Movie id:2268112[http] title:_\"The Legend of Korra (TV Series 2012–2014) - IMDb\" Harmonic Convergence (2013)_>,\n",
       "   13: <Movie id:2268110[http] title:_\"The Legend of Korra (TV Series 2012–2014) - IMDb\" Darkness Falls (2013)_>,\n",
       "   14: <Movie id:2268122[http] title:_\"The Legend of Korra (TV Series 2012–2014) - IMDb\" Light in the Dark (2013)_>},\n",
       "  3: {1: <Movie id:3550190[http] title:_\"The Legend of Korra (TV Series 2012–2014) - IMDb\" A Breath of Fresh Air (2014)_>,\n",
       "   2: <Movie id:3797652[http] title:_\"The Legend of Korra (TV Series 2012–2014) - IMDb\" Rebirth (2014)_>,\n",
       "   3: <Movie id:3797656[http] title:_\"The Legend of Korra (TV Series 2012–2014) - IMDb\" The Earth Queen (2014)_>,\n",
       "   4: <Movie id:3797654[http] title:_\"The Legend of Korra (TV Series 2012–2014) - IMDb\" In Harm's Way (2014)_>,\n",
       "   5: <Movie id:3797658[http] title:_\"The Legend of Korra (TV Series 2012–2014) - IMDb\" The Metal Clan (2014)_>,\n",
       "   6: <Movie id:3797660[http] title:_\"The Legend of Korra (TV Series 2012–2014) - IMDb\" Old Wounds (2014)_>,\n",
       "   7: <Movie id:3859534[http] title:_\"The Legend of Korra (TV Series 2012–2014) - IMDb\" Original Airbenders (2014)_>,\n",
       "   8: <Movie id:3865208[http] title:_\"The Legend of Korra (TV Series 2012–2014) - IMDb\" The Terror Within (2014)_>,\n",
       "   9: <Movie id:3865210[http] title:_\"The Legend of Korra (TV Series 2012–2014) - IMDb\" The Stakeout (2014)_>,\n",
       "   10: <Movie id:3865212[http] title:_\"The Legend of Korra (TV Series 2012–2014) - IMDb\" Long Live the Queen (2014)_>,\n",
       "   11: <Movie id:3865214[http] title:_\"The Legend of Korra (TV Series 2012–2014) - IMDb\" The Ultimatum (2014)_>,\n",
       "   12: <Movie id:3865216[http] title:_\"The Legend of Korra (TV Series 2012–2014) - IMDb\" Enter the Void (2014)_>,\n",
       "   13: <Movie id:3865220[http] title:_\"The Legend of Korra (TV Series 2012–2014) - IMDb\" Venom of the Red Lotus (2014)_>},\n",
       "  4: {1: <Movie id:4030586[http] title:_\"The Legend of Korra (TV Series 2012–2014) - IMDb\" After All These Years (2014)_>,\n",
       "   2: <Movie id:4030588[http] title:_\"The Legend of Korra (TV Series 2012–2014) - IMDb\" Korra Alone (2014)_>,\n",
       "   3: <Movie id:4030590[http] title:_\"The Legend of Korra (TV Series 2012–2014) - IMDb\" The Coronation (2014)_>,\n",
       "   4: <Movie id:4030596[http] title:_\"The Legend of Korra (TV Series 2012–2014) - IMDb\" The Calling (2014)_>,\n",
       "   5: <Movie id:4108622[http] title:_\"The Legend of Korra (TV Series 2012–2014) - IMDb\" Enemy at the Gates (2014)_>,\n",
       "   6: <Movie id:4122656[http] title:_\"The Legend of Korra (TV Series 2012–2014) - IMDb\" The Battle of Zaofu (2014)_>,\n",
       "   7: <Movie id:4122662[http] title:_\"The Legend of Korra (TV Series 2012–2014) - IMDb\" Reunion (2014)_>,\n",
       "   8: <Movie id:4122672[http] title:_\"The Legend of Korra (TV Series 2012–2014) - IMDb\" Remembrances (2014)_>,\n",
       "   9: <Movie id:4122680[http] title:_\"The Legend of Korra (TV Series 2012–2014) - IMDb\" Beyond the Wilds (2014)_>,\n",
       "   10: <Movie id:4122678[http] title:_\"The Legend of Korra (TV Series 2012–2014) - IMDb\" Operation Beifong (2014)_>,\n",
       "   11: <Movie id:4122688[http] title:_\"The Legend of Korra (TV Series 2012–2014) - IMDb\" Kuvira's Gambit (2014)_>,\n",
       "   12: <Movie id:4122690[http] title:_\"The Legend of Korra (TV Series 2012–2014) - IMDb\" Day of the Colossus (2014)_>,\n",
       "   13: <Movie id:4122708[http] title:_\"The Legend of Korra (TV Series 2012–2014) - IMDb\" The Last Stand (2014)_>}},\n",
       " 'number of episodes': 52}"
      ]
     },
     "execution_count": 36,
     "metadata": {},
     "output_type": "execute_result"
    }
   ],
   "source": [
    "korra_episodes.get('data')"
   ]
  },
  {
   "cell_type": "code",
   "execution_count": 37,
   "metadata": {
    "collapsed": false
   },
   "outputs": [
    {
     "data": {
      "text/plain": [
       "dict"
      ]
     },
     "execution_count": 37,
     "metadata": {},
     "output_type": "execute_result"
    }
   ],
   "source": [
    "type(korra_episodes.get('data'))"
   ]
  },
  {
   "cell_type": "code",
   "execution_count": 38,
   "metadata": {
    "collapsed": true
   },
   "outputs": [],
   "source": [
    "korra_episodes_data = korra_episodes.get('data')"
   ]
  },
  {
   "cell_type": "code",
   "execution_count": 39,
   "metadata": {
    "collapsed": false
   },
   "outputs": [
    {
     "name": "stdout",
     "output_type": "stream",
     "text": [
      "{'episodes': {4: {1: <Movie id:4030586[http] title:_\"The Legend of Korra (TV Series 2012–2014) - IMDb\" After All These Years (2014)_>, 2: <Movie id:4030588[http] title:_\"The Legend of Korra (TV Series 2012–2014) - IMDb\" Korra Alone (2014)_>, 3: <Movie id:4030590[http] title:_\"The Legend of Korra (TV Series 2012–2014) - IMDb\" The Coronation (2014)_>, 4: <Movie id:4030596[http] title:_\"The Legend of Korra (TV Series 2012–2014) - IMDb\" The Calling (2014)_>, 5: <Movie id:4108622[http] title:_\"The Legend of Korra (TV Series 2012–2014) - IMDb\" Enemy at the Gates (2014)_>, 6: <Movie id:4122656[http] title:_\"The Legend of Korra (TV Series 2012–2014) - IMDb\" The Battle of Zaofu (2014)_>, 7: <Movie id:4122662[http] title:_\"The Legend of Korra (TV Series 2012–2014) - IMDb\" Reunion (2014)_>, 8: <Movie id:4122672[http] title:_\"The Legend of Korra (TV Series 2012–2014) - IMDb\" Remembrances (2014)_>, 9: <Movie id:4122680[http] title:_\"The Legend of Korra (TV Series 2012–2014) - IMDb\" Beyond the Wilds (2014)_>, 10: <Movie id:4122678[http] title:_\"The Legend of Korra (TV Series 2012–2014) - IMDb\" Operation Beifong (2014)_>, 11: <Movie id:4122688[http] title:_\"The Legend of Korra (TV Series 2012–2014) - IMDb\" Kuvira's Gambit (2014)_>, 12: <Movie id:4122690[http] title:_\"The Legend of Korra (TV Series 2012–2014) - IMDb\" Day of the Colossus (2014)_>, 13: <Movie id:4122708[http] title:_\"The Legend of Korra (TV Series 2012–2014) - IMDb\" The Last Stand (2014)_>}, 1: {1: <Movie id:2150017[http] title:_\"The Legend of Korra (TV Series 2012–2014) - IMDb\" Welcome to Republic City (2012)_>, 2: <Movie id:2315621[http] title:_\"The Legend of Korra (TV Series 2012–2014) - IMDb\" A Leaf in the Wind (2012)_>, 3: <Movie id:2388409[http] title:_\"The Legend of Korra (TV Series 2012–2014) - IMDb\" The Revelation (2012)_>, 4: <Movie id:2353307[http] title:_\"The Legend of Korra (TV Series 2012–2014) - IMDb\" The Voice in the Night (2012)_>, 5: <Movie id:2353317[http] title:_\"The Legend of Korra (TV Series 2012–2014) - IMDb\" The Spirit of Competition (2012)_>, 6: <Movie id:2353315[http] title:_\"The Legend of Korra (TV Series 2012–2014) - IMDb\" And the Winner Is... (2012)_>, 7: <Movie id:2353309[http] title:_\"The Legend of Korra (TV Series 2012–2014) - IMDb\" The Aftermath (2012)_>, 8: <Movie id:2353311[http] title:_\"The Legend of Korra (TV Series 2012–2014) - IMDb\" When Extremes Meet (2012)_>, 9: <Movie id:2353313[http] title:_\"The Legend of Korra (TV Series 2012–2014) - IMDb\" Out of the Past (2012)_>, 10: <Movie id:2353305[http] title:_\"The Legend of Korra (TV Series 2012–2014) - IMDb\" Turning the Tides (2012)_>, 11: <Movie id:2198968[http] title:_\"The Legend of Korra (TV Series 2012–2014) - IMDb\" Skeletons in the Closet (2012)_>, 12: <Movie id:2198738[http] title:_\"The Legend of Korra (TV Series 2012–2014) - IMDb\" Endgame (2012)_>}, 2: {1: <Movie id:2268096[http] title:_\"The Legend of Korra (TV Series 2012–2014) - IMDb\" Rebel Spirit (2013)_>, 2: <Movie id:2268100[http] title:_\"The Legend of Korra (TV Series 2012–2014) - IMDb\" The Southern Lights (2013)_>, 3: <Movie id:2268104[http] title:_\"The Legend of Korra (TV Series 2012–2014) - IMDb\" Civil Wars: Part 1 (2013)_>, 4: <Movie id:2268114[http] title:_\"The Legend of Korra (TV Series 2012–2014) - IMDb\" Civil Wars: Part 2 (2013)_>, 5: <Movie id:2268102[http] title:_\"The Legend of Korra (TV Series 2012–2014) - IMDb\" Peacekeepers (2013)_>, 6: <Movie id:2268108[http] title:_\"The Legend of Korra (TV Series 2012–2014) - IMDb\" The Sting (2013)_>, 7: <Movie id:2268118[http] title:_\"The Legend of Korra (TV Series 2012–2014) - IMDb\" Beginnings, Part 1 (2013)_>, 8: <Movie id:2268126[http] title:_\"The Legend of Korra (TV Series 2012–2014) - IMDb\" Beginnings, Part 2 (2013)_>, 9: <Movie id:2268120[http] title:_\"The Legend of Korra (TV Series 2012–2014) - IMDb\" The Guide (2013)_>, 10: <Movie id:2268124[http] title:_\"The Legend of Korra (TV Series 2012–2014) - IMDb\" A New Spiritual Age (2013)_>, 11: <Movie id:2268116[http] title:_\"The Legend of Korra (TV Series 2012–2014) - IMDb\" Night of a Thousand Stars (2013)_>, 12: <Movie id:2268112[http] title:_\"The Legend of Korra (TV Series 2012–2014) - IMDb\" Harmonic Convergence (2013)_>, 13: <Movie id:2268110[http] title:_\"The Legend of Korra (TV Series 2012–2014) - IMDb\" Darkness Falls (2013)_>, 14: <Movie id:2268122[http] title:_\"The Legend of Korra (TV Series 2012–2014) - IMDb\" Light in the Dark (2013)_>}, 3: {1: <Movie id:3550190[http] title:_\"The Legend of Korra (TV Series 2012–2014) - IMDb\" A Breath of Fresh Air (2014)_>, 2: <Movie id:3797652[http] title:_\"The Legend of Korra (TV Series 2012–2014) - IMDb\" Rebirth (2014)_>, 3: <Movie id:3797656[http] title:_\"The Legend of Korra (TV Series 2012–2014) - IMDb\" The Earth Queen (2014)_>, 4: <Movie id:3797654[http] title:_\"The Legend of Korra (TV Series 2012–2014) - IMDb\" In Harm's Way (2014)_>, 5: <Movie id:3797658[http] title:_\"The Legend of Korra (TV Series 2012–2014) - IMDb\" The Metal Clan (2014)_>, 6: <Movie id:3797660[http] title:_\"The Legend of Korra (TV Series 2012–2014) - IMDb\" Old Wounds (2014)_>, 7: <Movie id:3859534[http] title:_\"The Legend of Korra (TV Series 2012–2014) - IMDb\" Original Airbenders (2014)_>, 8: <Movie id:3865208[http] title:_\"The Legend of Korra (TV Series 2012–2014) - IMDb\" The Terror Within (2014)_>, 9: <Movie id:3865210[http] title:_\"The Legend of Korra (TV Series 2012–2014) - IMDb\" The Stakeout (2014)_>, 10: <Movie id:3865212[http] title:_\"The Legend of Korra (TV Series 2012–2014) - IMDb\" Long Live the Queen (2014)_>, 11: <Movie id:3865214[http] title:_\"The Legend of Korra (TV Series 2012–2014) - IMDb\" The Ultimatum (2014)_>, 12: <Movie id:3865216[http] title:_\"The Legend of Korra (TV Series 2012–2014) - IMDb\" Enter the Void (2014)_>, 13: <Movie id:3865220[http] title:_\"The Legend of Korra (TV Series 2012–2014) - IMDb\" Venom of the Red Lotus (2014)_>}}, 'number of episodes': 52}\n"
     ]
    }
   ],
   "source": [
    "print(korra_episodes_data)"
   ]
  },
  {
   "cell_type": "code",
   "execution_count": 40,
   "metadata": {
    "collapsed": true
   },
   "outputs": [],
   "source": [
    "korra_episodes_data_episodes = korra_episodes_data.get('episodes')"
   ]
  },
  {
   "cell_type": "code",
   "execution_count": 41,
   "metadata": {
    "collapsed": false
   },
   "outputs": [
    {
     "data": {
      "text/plain": [
       "dict"
      ]
     },
     "execution_count": 41,
     "metadata": {},
     "output_type": "execute_result"
    }
   ],
   "source": [
    "type(korra_episodes_data_episodes)"
   ]
  },
  {
   "cell_type": "code",
   "execution_count": 42,
   "metadata": {
    "collapsed": false
   },
   "outputs": [
    {
     "name": "stdout",
     "output_type": "stream",
     "text": [
      "dict_keys([4, 1, 2, 3])\n"
     ]
    }
   ],
   "source": [
    "print(korra_episodes_data_episodes.keys())"
   ]
  },
  {
   "cell_type": "code",
   "execution_count": 43,
   "metadata": {
    "collapsed": false
   },
   "outputs": [
    {
     "name": "stdout",
     "output_type": "stream",
     "text": [
      "{4: {1: <Movie id:4030586[http] title:_\"The Legend of Korra (TV Series 2012–2014) - IMDb\" After All These Years (2014)_>, 2: <Movie id:4030588[http] title:_\"The Legend of Korra (TV Series 2012–2014) - IMDb\" Korra Alone (2014)_>, 3: <Movie id:4030590[http] title:_\"The Legend of Korra (TV Series 2012–2014) - IMDb\" The Coronation (2014)_>, 4: <Movie id:4030596[http] title:_\"The Legend of Korra (TV Series 2012–2014) - IMDb\" The Calling (2014)_>, 5: <Movie id:4108622[http] title:_\"The Legend of Korra (TV Series 2012–2014) - IMDb\" Enemy at the Gates (2014)_>, 6: <Movie id:4122656[http] title:_\"The Legend of Korra (TV Series 2012–2014) - IMDb\" The Battle of Zaofu (2014)_>, 7: <Movie id:4122662[http] title:_\"The Legend of Korra (TV Series 2012–2014) - IMDb\" Reunion (2014)_>, 8: <Movie id:4122672[http] title:_\"The Legend of Korra (TV Series 2012–2014) - IMDb\" Remembrances (2014)_>, 9: <Movie id:4122680[http] title:_\"The Legend of Korra (TV Series 2012–2014) - IMDb\" Beyond the Wilds (2014)_>, 10: <Movie id:4122678[http] title:_\"The Legend of Korra (TV Series 2012–2014) - IMDb\" Operation Beifong (2014)_>, 11: <Movie id:4122688[http] title:_\"The Legend of Korra (TV Series 2012–2014) - IMDb\" Kuvira's Gambit (2014)_>, 12: <Movie id:4122690[http] title:_\"The Legend of Korra (TV Series 2012–2014) - IMDb\" Day of the Colossus (2014)_>, 13: <Movie id:4122708[http] title:_\"The Legend of Korra (TV Series 2012–2014) - IMDb\" The Last Stand (2014)_>}, 1: {1: <Movie id:2150017[http] title:_\"The Legend of Korra (TV Series 2012–2014) - IMDb\" Welcome to Republic City (2012)_>, 2: <Movie id:2315621[http] title:_\"The Legend of Korra (TV Series 2012–2014) - IMDb\" A Leaf in the Wind (2012)_>, 3: <Movie id:2388409[http] title:_\"The Legend of Korra (TV Series 2012–2014) - IMDb\" The Revelation (2012)_>, 4: <Movie id:2353307[http] title:_\"The Legend of Korra (TV Series 2012–2014) - IMDb\" The Voice in the Night (2012)_>, 5: <Movie id:2353317[http] title:_\"The Legend of Korra (TV Series 2012–2014) - IMDb\" The Spirit of Competition (2012)_>, 6: <Movie id:2353315[http] title:_\"The Legend of Korra (TV Series 2012–2014) - IMDb\" And the Winner Is... (2012)_>, 7: <Movie id:2353309[http] title:_\"The Legend of Korra (TV Series 2012–2014) - IMDb\" The Aftermath (2012)_>, 8: <Movie id:2353311[http] title:_\"The Legend of Korra (TV Series 2012–2014) - IMDb\" When Extremes Meet (2012)_>, 9: <Movie id:2353313[http] title:_\"The Legend of Korra (TV Series 2012–2014) - IMDb\" Out of the Past (2012)_>, 10: <Movie id:2353305[http] title:_\"The Legend of Korra (TV Series 2012–2014) - IMDb\" Turning the Tides (2012)_>, 11: <Movie id:2198968[http] title:_\"The Legend of Korra (TV Series 2012–2014) - IMDb\" Skeletons in the Closet (2012)_>, 12: <Movie id:2198738[http] title:_\"The Legend of Korra (TV Series 2012–2014) - IMDb\" Endgame (2012)_>}, 2: {1: <Movie id:2268096[http] title:_\"The Legend of Korra (TV Series 2012–2014) - IMDb\" Rebel Spirit (2013)_>, 2: <Movie id:2268100[http] title:_\"The Legend of Korra (TV Series 2012–2014) - IMDb\" The Southern Lights (2013)_>, 3: <Movie id:2268104[http] title:_\"The Legend of Korra (TV Series 2012–2014) - IMDb\" Civil Wars: Part 1 (2013)_>, 4: <Movie id:2268114[http] title:_\"The Legend of Korra (TV Series 2012–2014) - IMDb\" Civil Wars: Part 2 (2013)_>, 5: <Movie id:2268102[http] title:_\"The Legend of Korra (TV Series 2012–2014) - IMDb\" Peacekeepers (2013)_>, 6: <Movie id:2268108[http] title:_\"The Legend of Korra (TV Series 2012–2014) - IMDb\" The Sting (2013)_>, 7: <Movie id:2268118[http] title:_\"The Legend of Korra (TV Series 2012–2014) - IMDb\" Beginnings, Part 1 (2013)_>, 8: <Movie id:2268126[http] title:_\"The Legend of Korra (TV Series 2012–2014) - IMDb\" Beginnings, Part 2 (2013)_>, 9: <Movie id:2268120[http] title:_\"The Legend of Korra (TV Series 2012–2014) - IMDb\" The Guide (2013)_>, 10: <Movie id:2268124[http] title:_\"The Legend of Korra (TV Series 2012–2014) - IMDb\" A New Spiritual Age (2013)_>, 11: <Movie id:2268116[http] title:_\"The Legend of Korra (TV Series 2012–2014) - IMDb\" Night of a Thousand Stars (2013)_>, 12: <Movie id:2268112[http] title:_\"The Legend of Korra (TV Series 2012–2014) - IMDb\" Harmonic Convergence (2013)_>, 13: <Movie id:2268110[http] title:_\"The Legend of Korra (TV Series 2012–2014) - IMDb\" Darkness Falls (2013)_>, 14: <Movie id:2268122[http] title:_\"The Legend of Korra (TV Series 2012–2014) - IMDb\" Light in the Dark (2013)_>}, 3: {1: <Movie id:3550190[http] title:_\"The Legend of Korra (TV Series 2012–2014) - IMDb\" A Breath of Fresh Air (2014)_>, 2: <Movie id:3797652[http] title:_\"The Legend of Korra (TV Series 2012–2014) - IMDb\" Rebirth (2014)_>, 3: <Movie id:3797656[http] title:_\"The Legend of Korra (TV Series 2012–2014) - IMDb\" The Earth Queen (2014)_>, 4: <Movie id:3797654[http] title:_\"The Legend of Korra (TV Series 2012–2014) - IMDb\" In Harm's Way (2014)_>, 5: <Movie id:3797658[http] title:_\"The Legend of Korra (TV Series 2012–2014) - IMDb\" The Metal Clan (2014)_>, 6: <Movie id:3797660[http] title:_\"The Legend of Korra (TV Series 2012–2014) - IMDb\" Old Wounds (2014)_>, 7: <Movie id:3859534[http] title:_\"The Legend of Korra (TV Series 2012–2014) - IMDb\" Original Airbenders (2014)_>, 8: <Movie id:3865208[http] title:_\"The Legend of Korra (TV Series 2012–2014) - IMDb\" The Terror Within (2014)_>, 9: <Movie id:3865210[http] title:_\"The Legend of Korra (TV Series 2012–2014) - IMDb\" The Stakeout (2014)_>, 10: <Movie id:3865212[http] title:_\"The Legend of Korra (TV Series 2012–2014) - IMDb\" Long Live the Queen (2014)_>, 11: <Movie id:3865214[http] title:_\"The Legend of Korra (TV Series 2012–2014) - IMDb\" The Ultimatum (2014)_>, 12: <Movie id:3865216[http] title:_\"The Legend of Korra (TV Series 2012–2014) - IMDb\" Enter the Void (2014)_>, 13: <Movie id:3865220[http] title:_\"The Legend of Korra (TV Series 2012–2014) - IMDb\" Venom of the Red Lotus (2014)_>}}\n"
     ]
    }
   ],
   "source": [
    "print(korra_episodes_data_episodes)"
   ]
  },
  {
   "cell_type": "code",
   "execution_count": 44,
   "metadata": {
    "collapsed": false
   },
   "outputs": [
    {
     "data": {
      "text/plain": [
       "{1: <Movie id:2150017[http] title:_\"The Legend of Korra (TV Series 2012–2014) - IMDb\" Welcome to Republic City (2012)_>,\n",
       " 2: <Movie id:2315621[http] title:_\"The Legend of Korra (TV Series 2012–2014) - IMDb\" A Leaf in the Wind (2012)_>,\n",
       " 3: <Movie id:2388409[http] title:_\"The Legend of Korra (TV Series 2012–2014) - IMDb\" The Revelation (2012)_>,\n",
       " 4: <Movie id:2353307[http] title:_\"The Legend of Korra (TV Series 2012–2014) - IMDb\" The Voice in the Night (2012)_>,\n",
       " 5: <Movie id:2353317[http] title:_\"The Legend of Korra (TV Series 2012–2014) - IMDb\" The Spirit of Competition (2012)_>,\n",
       " 6: <Movie id:2353315[http] title:_\"The Legend of Korra (TV Series 2012–2014) - IMDb\" And the Winner Is... (2012)_>,\n",
       " 7: <Movie id:2353309[http] title:_\"The Legend of Korra (TV Series 2012–2014) - IMDb\" The Aftermath (2012)_>,\n",
       " 8: <Movie id:2353311[http] title:_\"The Legend of Korra (TV Series 2012–2014) - IMDb\" When Extremes Meet (2012)_>,\n",
       " 9: <Movie id:2353313[http] title:_\"The Legend of Korra (TV Series 2012–2014) - IMDb\" Out of the Past (2012)_>,\n",
       " 10: <Movie id:2353305[http] title:_\"The Legend of Korra (TV Series 2012–2014) - IMDb\" Turning the Tides (2012)_>,\n",
       " 11: <Movie id:2198968[http] title:_\"The Legend of Korra (TV Series 2012–2014) - IMDb\" Skeletons in the Closet (2012)_>,\n",
       " 12: <Movie id:2198738[http] title:_\"The Legend of Korra (TV Series 2012–2014) - IMDb\" Endgame (2012)_>}"
      ]
     },
     "execution_count": 44,
     "metadata": {},
     "output_type": "execute_result"
    }
   ],
   "source": [
    "korra_episodes_data_episodes.get(1)"
   ]
  },
  {
   "cell_type": "code",
   "execution_count": 45,
   "metadata": {
    "collapsed": true
   },
   "outputs": [],
   "source": [
    "korra_episodes_data_episodes_se1 = korra_episodes_data_episodes.get(1)"
   ]
  },
  {
   "cell_type": "code",
   "execution_count": 46,
   "metadata": {
    "collapsed": false
   },
   "outputs": [
    {
     "data": {
      "text/plain": [
       "{1: <Movie id:2150017[http] title:_\"The Legend of Korra (TV Series 2012–2014) - IMDb\" Welcome to Republic City (2012)_>,\n",
       " 2: <Movie id:2315621[http] title:_\"The Legend of Korra (TV Series 2012–2014) - IMDb\" A Leaf in the Wind (2012)_>,\n",
       " 3: <Movie id:2388409[http] title:_\"The Legend of Korra (TV Series 2012–2014) - IMDb\" The Revelation (2012)_>,\n",
       " 4: <Movie id:2353307[http] title:_\"The Legend of Korra (TV Series 2012–2014) - IMDb\" The Voice in the Night (2012)_>,\n",
       " 5: <Movie id:2353317[http] title:_\"The Legend of Korra (TV Series 2012–2014) - IMDb\" The Spirit of Competition (2012)_>,\n",
       " 6: <Movie id:2353315[http] title:_\"The Legend of Korra (TV Series 2012–2014) - IMDb\" And the Winner Is... (2012)_>,\n",
       " 7: <Movie id:2353309[http] title:_\"The Legend of Korra (TV Series 2012–2014) - IMDb\" The Aftermath (2012)_>,\n",
       " 8: <Movie id:2353311[http] title:_\"The Legend of Korra (TV Series 2012–2014) - IMDb\" When Extremes Meet (2012)_>,\n",
       " 9: <Movie id:2353313[http] title:_\"The Legend of Korra (TV Series 2012–2014) - IMDb\" Out of the Past (2012)_>,\n",
       " 10: <Movie id:2353305[http] title:_\"The Legend of Korra (TV Series 2012–2014) - IMDb\" Turning the Tides (2012)_>,\n",
       " 11: <Movie id:2198968[http] title:_\"The Legend of Korra (TV Series 2012–2014) - IMDb\" Skeletons in the Closet (2012)_>,\n",
       " 12: <Movie id:2198738[http] title:_\"The Legend of Korra (TV Series 2012–2014) - IMDb\" Endgame (2012)_>}"
      ]
     },
     "execution_count": 46,
     "metadata": {},
     "output_type": "execute_result"
    }
   ],
   "source": [
    "korra_episodes_data_episodes_se1"
   ]
  },
  {
   "cell_type": "code",
   "execution_count": 47,
   "metadata": {
    "collapsed": false
   },
   "outputs": [
    {
     "name": "stdout",
     "output_type": "stream",
     "text": [
      "<class 'dict'>\n"
     ]
    }
   ],
   "source": [
    "print(type(korra_episodes_data_episodes_se1))"
   ]
  },
  {
   "cell_type": "code",
   "execution_count": 48,
   "metadata": {
    "collapsed": false
   },
   "outputs": [
    {
     "data": {
      "text/plain": [
       "dict_keys([1, 2, 3, 4, 5, 6, 7, 8, 9, 10, 11, 12])"
      ]
     },
     "execution_count": 48,
     "metadata": {},
     "output_type": "execute_result"
    }
   ],
   "source": [
    "korra_episodes_data_episodes_se1.keys()"
   ]
  },
  {
   "cell_type": "code",
   "execution_count": 49,
   "metadata": {
    "collapsed": true
   },
   "outputs": [],
   "source": [
    "korra_episodes_data_episodes_se1_ep1 = korra_episodes_data_episodes_se1.get(1)"
   ]
  },
  {
   "cell_type": "code",
   "execution_count": 50,
   "metadata": {
    "collapsed": false
   },
   "outputs": [
    {
     "data": {
      "text/plain": [
       "<Movie id:2150017[http] title:_\"The Legend of Korra (TV Series 2012–2014) - IMDb\" Welcome to Republic City (2012)_>"
      ]
     },
     "execution_count": 50,
     "metadata": {},
     "output_type": "execute_result"
    }
   ],
   "source": [
    "korra_episodes_data_episodes_se1_ep1"
   ]
  },
  {
   "cell_type": "code",
   "execution_count": 51,
   "metadata": {
    "collapsed": false
   },
   "outputs": [
    {
     "data": {
      "text/plain": [
       "imdb.Movie.Movie"
      ]
     },
     "execution_count": 51,
     "metadata": {},
     "output_type": "execute_result"
    }
   ],
   "source": [
    "#for these types of objects, put a period and then use tab to identify what options you have\n",
    "type(korra_episodes_data_episodes_se1_ep1)"
   ]
  },
  {
   "cell_type": "code",
   "execution_count": 52,
   "metadata": {
    "collapsed": false
   },
   "outputs": [
    {
     "data": {
      "text/plain": [
       "{'episode': 1,\n",
       " 'episode of': <Movie id:1695360[http] title:_\"The Legend of Korra (TV Series 2012–2014) - IMDb\" (None)_>,\n",
       " 'kind': 'episode',\n",
       " 'original air date': '14 Apr. 2012',\n",
       " 'plot': '\\n    Korra, the new Avatar, travels to Republic city to start her Airbending training.    ',\n",
       " 'rating': 8.501234567891,\n",
       " 'season': 1,\n",
       " 'title': 'Welcome to Republic City',\n",
       " 'votes': 1744,\n",
       " 'year': '2012'}"
      ]
     },
     "execution_count": 52,
     "metadata": {},
     "output_type": "execute_result"
    }
   ],
   "source": [
    "#used this to identify the data aspect which has all the info I think I'm looking for\n",
    "korra_episodes_data_episodes_se1_ep1.data"
   ]
  },
  {
   "cell_type": "code",
   "execution_count": null,
   "metadata": {
    "collapsed": true
   },
   "outputs": [],
   "source": [
    "type(korra_episodes_data_episodes_se1_ep1.data)"
   ]
  },
  {
   "cell_type": "code",
   "execution_count": 53,
   "metadata": {
    "collapsed": false
   },
   "outputs": [
    {
     "data": {
      "text/plain": [
       "{'episode': 1,\n",
       " 'episode of': <Movie id:1695360[http] title:_\"The Legend of Korra (TV Series 2012–2014) - IMDb\" (None)_>,\n",
       " 'kind': 'episode',\n",
       " 'original air date': '14 Apr. 2012',\n",
       " 'plot': '\\n    Korra, the new Avatar, travels to Republic city to start her Airbending training.    ',\n",
       " 'rating': 8.501234567891,\n",
       " 'season': 1,\n",
       " 'title': 'Welcome to Republic City',\n",
       " 'votes': 1744,\n",
       " 'year': '2012'}"
      ]
     },
     "execution_count": 53,
     "metadata": {},
     "output_type": "execute_result"
    }
   ],
   "source": [
    "korra_episodes_data_episodes_se1_ep1.data"
   ]
  },
  {
   "cell_type": "code",
   "execution_count": null,
   "metadata": {
    "collapsed": true
   },
   "outputs": [],
   "source": [
    "#https://stackoverflow.com/questions/55500337/getting-movie-id-from-filmography-in-imdbpy-results"
   ]
  },
  {
   "cell_type": "code",
   "execution_count": null,
   "metadata": {
    "collapsed": true
   },
   "outputs": [],
   "source": [
    "korra_se1_ep1 = korra_episodes_data_episodes_se1_ep1.data"
   ]
  },
  {
   "cell_type": "code",
   "execution_count": null,
   "metadata": {
    "collapsed": true
   },
   "outputs": [],
   "source": [
    "#pop the episode of seemed to help because it was messing up converting it to a data frame.  \n",
    "#but might need it to be able to get all the data needed.\n",
    "korra_se1_ep1.pop(\"episode of\")"
   ]
  },
  {
   "cell_type": "code",
   "execution_count": null,
   "metadata": {
    "collapsed": true
   },
   "outputs": [],
   "source": [
    "df_se1_ep1_v2 = pd.DataFrame(korra_se1_ep1, index = [0])"
   ]
  },
  {
   "cell_type": "code",
   "execution_count": null,
   "metadata": {
    "collapsed": true
   },
   "outputs": [],
   "source": [
    "df_se1_ep1_v2"
   ]
  },
  {
   "cell_type": "code",
   "execution_count": null,
   "metadata": {
    "collapsed": true
   },
   "outputs": [],
   "source": [
    " my_dict ={'episode': 1,\n",
    " 'kind': 'episode',\n",
    " 'original air date': '14 Apr. 2012',\n",
    " 'plot': '\\n    Korra, the new Avatar, travels to Republic city to start her Airbending training.    ',\n",
    " 'rating': 8.501234567891,\n",
    " 'season': 1,\n",
    " 'title': 'Welcome to Republic City',\n",
    " 'votes': 1744,\n",
    " 'year': '2012'}"
   ]
  },
  {
   "cell_type": "code",
   "execution_count": null,
   "metadata": {
    "collapsed": true
   },
   "outputs": [],
   "source": [
    "df_se1_ep1 = pd.DataFrame(my_dict, index = [0])"
   ]
  },
  {
   "cell_type": "code",
   "execution_count": null,
   "metadata": {
    "collapsed": true
   },
   "outputs": [],
   "source": [
    "df_se1_ep1"
   ]
  },
  {
   "cell_type": "code",
   "execution_count": null,
   "metadata": {
    "collapsed": true
   },
   "outputs": [],
   "source": [
    "korra_df_se1_ep1 = pd.DataFrame(korra_episodes_data_episodes_se1_ep1.data,index=[0])"
   ]
  },
  {
   "cell_type": "code",
   "execution_count": null,
   "metadata": {
    "collapsed": true
   },
   "outputs": [],
   "source": [
    "korra_df_se1_ep1_clean = "
   ]
  },
  {
   "cell_type": "code",
   "execution_count": null,
   "metadata": {
    "collapsed": true
   },
   "outputs": [],
   "source": [
    "korra_df_se1_ep1.head()"
   ]
  },
  {
   "cell_type": "code",
   "execution_count": null,
   "metadata": {
    "collapsed": true
   },
   "outputs": [],
   "source": [
    "#Allows you gto get the ID from individual stuff let's go back and try that... \n",
    "korra_episodes_data_episodes_se1_ep1.getID()"
   ]
  },
  {
   "cell_type": "code",
   "execution_count": null,
   "metadata": {
    "collapsed": true
   },
   "outputs": [],
   "source": []
  },
  {
   "cell_type": "code",
   "execution_count": null,
   "metadata": {
    "collapsed": true
   },
   "outputs": [],
   "source": [
    "korra_df_se1.head()"
   ]
  },
  {
   "cell_type": "code",
   "execution_count": null,
   "metadata": {
    "collapsed": true
   },
   "outputs": [],
   "source": [
    "korra_df.head()"
   ]
  },
  {
   "cell_type": "code",
   "execution_count": null,
   "metadata": {
    "collapsed": true
   },
   "outputs": [],
   "source": [
    "korra_episodes[0][0]"
   ]
  },
  {
   "cell_type": "code",
   "execution_count": null,
   "metadata": {
    "collapsed": true
   },
   "outputs": [],
   "source": [
    "print(korra_episodes)"
   ]
  },
  {
   "cell_type": "code",
   "execution_count": null,
   "metadata": {
    "collapsed": true
   },
   "outputs": [],
   "source": [
    "import pandas as pd"
   ]
  },
  {
   "cell_type": "code",
   "execution_count": null,
   "metadata": {
    "collapsed": true
   },
   "outputs": [],
   "source": [
    "korra_df = pd.DataFrame.from_dict(korra_episodes,orient = 'index')"
   ]
  },
  {
   "cell_type": "code",
   "execution_count": null,
   "metadata": {
    "collapsed": true
   },
   "outputs": [],
   "source": [
    "korra_df.head()"
   ]
  },
  {
   "cell_type": "code",
   "execution_count": null,
   "metadata": {
    "collapsed": true
   },
   "outputs": [],
   "source": [
    "korra_df.head()"
   ]
  },
  {
   "cell_type": "code",
   "execution_count": null,
   "metadata": {
    "collapsed": true
   },
   "outputs": [],
   "source": [
    "tv_show[0]"
   ]
  },
  {
   "cell_type": "code",
   "execution_count": null,
   "metadata": {
    "collapsed": true
   },
   "outputs": [],
   "source": [
    "print(my_str,sep = '_')"
   ]
  },
  {
   "cell_type": "code",
   "execution_count": null,
   "metadata": {
    "collapsed": true
   },
   "outputs": [],
   "source": [
    "my_list = [<Movie id:0499549[http] title:_Avatar (2009)_>, <Movie id:0417299[http] title:_\"Avatar: The Last Airbender\" (2005)_>, <Movie id:0120347[http] title:_Tomorrow Never Dies (1997)_>, <Movie id:1630029[http] title:_Avatar 2 (2021)_>, <Movie id:1695360[http] title:_\"The Legend of Korra\" (2012)_>, <Movie id:0938283[http] title:_The Last Airbender (2010)_>, <Movie id:1133985[http] title:_Green Lantern (2011)_>, <Movie id:9018736[http] title:_\"Avatar: The Last Airbender\" (None)_>, <Movie id:1757678[http] title:_Avatar 3 (2023)_>, <Movie id:5637536[http] title:_Avatar 5 (2027)_>, <Movie id:3095356[http] title:_Avatar 4 (2025)_>, <Movie id:2926746[http] title:_\"The Avatars\" (2013)_>, <Movie id:6859260[http] title:_\"The King's Avatar\" (2017)_>, <Movie id:4727514[http] title:_The Last Avatar (2014)_>, <Movie id:1775309[http] title:_Avatar (2011)_>, <Movie id:1900832[http] title:_Avatar Spirits (2010)_>, <Movie id:1517155[http] title:_Avatar: The Game (2009) (VG)_>, <Movie id:10732794[http] title:_\"The King's Avatar\" (2019)_>, <Movie id:5863892[http] title:_Avatar (2016) (V)_>, <Movie id:0497595[http] title:_Avatar (2005)_>]"
   ]
  },
  {
   "cell_type": "code",
   "execution_count": null,
   "metadata": {
    "collapsed": true
   },
   "outputs": [],
   "source": [
    "for genre in tv_show['genres']:\n",
    "    print[genre]"
   ]
  },
  {
   "cell_type": "code",
   "execution_count": null,
   "metadata": {
    "collapsed": true
   },
   "outputs": [],
   "source": [
    "for i in range(len(tv_show)):\n",
    "    print(tv_show[i])"
   ]
  },
  {
   "cell_type": "code",
   "execution_count": null,
   "metadata": {
    "collapsed": true
   },
   "outputs": [],
   "source": [
    "korra = ia.get_movie('1695360')\n",
    "atla = ia.get_movie('0417299')\n",
    "sample = ia.get_movie('0389564')"
   ]
  },
  {
   "cell_type": "code",
   "execution_count": null,
   "metadata": {
    "collapsed": true
   },
   "outputs": [],
   "source": [
    "print(korra['kind'])\n",
    "print(atla['kind'])\n",
    "print(sample['kind'])"
   ]
  },
  {
   "cell_type": "code",
   "execution_count": null,
   "metadata": {
    "collapsed": true
   },
   "outputs": [],
   "source": [
    "imdb.helpers()"
   ]
  },
  {
   "cell_type": "code",
   "execution_count": null,
   "metadata": {
    "collapsed": true
   },
   "outputs": [],
   "source": [
    "print(korra.infoset2keys)\n",
    "print()\n",
    "print(sample.infoset2keys)"
   ]
  },
  {
   "cell_type": "code",
   "execution_count": null,
   "metadata": {
    "collapsed": true
   },
   "outputs": [],
   "source": [
    "korra['kind']"
   ]
  },
  {
   "cell_type": "code",
   "execution_count": null,
   "metadata": {
    "collapsed": true
   },
   "outputs": [],
   "source": [
    "ia.update(korra,'episodes')"
   ]
  },
  {
   "cell_type": "code",
   "execution_count": null,
   "metadata": {
    "collapsed": true
   },
   "outputs": [],
   "source": [
    "sorted(korra['episodes'].keys())"
   ]
  },
  {
   "cell_type": "code",
   "execution_count": null,
   "metadata": {
    "collapsed": true
   },
   "outputs": [],
   "source": [
    "season1 = korra['episodes'][1]"
   ]
  },
  {
   "cell_type": "code",
   "execution_count": null,
   "metadata": {
    "collapsed": true
   },
   "outputs": [],
   "source": [
    "len(season1)"
   ]
  },
  {
   "cell_type": "code",
   "execution_count": null,
   "metadata": {
    "collapsed": true
   },
   "outputs": [],
   "source": [
    "type(season1)"
   ]
  },
  {
   "cell_type": "code",
   "execution_count": null,
   "metadata": {
    "collapsed": true
   },
   "outputs": [],
   "source": [
    "print(season1)"
   ]
  },
  {
   "cell_type": "code",
   "execution_count": null,
   "metadata": {
    "collapsed": true
   },
   "outputs": [],
   "source": [
    "type(season1)"
   ]
  },
  {
   "cell_type": "code",
   "execution_count": null,
   "metadata": {
    "collapsed": true
   },
   "outputs": [],
   "source": [
    "#get good at pandas to dict"
   ]
  },
  {
   "cell_type": "code",
   "execution_count": null,
   "metadata": {
    "collapsed": true
   },
   "outputs": [],
   "source": []
  },
  {
   "cell_type": "code",
   "execution_count": null,
   "metadata": {
    "collapsed": true
   },
   "outputs": [],
   "source": [
    "for i in range(len(season1)):\n",
    "    print(season1[i])"
   ]
  },
  {
   "cell_type": "code",
   "execution_count": null,
   "metadata": {
    "collapsed": true
   },
   "outputs": [],
   "source": [
    "episode1 = ia.get_movie('2150017')"
   ]
  },
  {
   "cell_type": "code",
   "execution_count": null,
   "metadata": {
    "collapsed": true
   },
   "outputs": [],
   "source": [
    "print(episode1['title'])\n",
    "print(episode1['series title'])\n",
    "print(episode1['episode of'])"
   ]
  },
  {
   "cell_type": "code",
   "execution_count": null,
   "metadata": {
    "collapsed": true
   },
   "outputs": [],
   "source": [
    "episode1.analyze_title('\"The Legend of Korra\" Welcome to Republic City')"
   ]
  },
  {
   "cell_type": "code",
   "execution_count": null,
   "metadata": {
    "collapsed": true
   },
   "outputs": [],
   "source": [
    "episode1['rating']"
   ]
  },
  {
   "cell_type": "code",
   "execution_count": null,
   "metadata": {
    "collapsed": true
   },
   "outputs": [],
   "source": [
    "episode = ia.get_movie('0502803')"
   ]
  },
  {
   "cell_type": "code",
   "execution_count": null,
   "metadata": {
    "collapsed": true
   },
   "outputs": [],
   "source": [
    "episode['episode of']"
   ]
  },
  {
   "cell_type": "code",
   "execution_count": null,
   "metadata": {
    "collapsed": true
   },
   "outputs": [],
   "source": [
    "print(korra['episodes'])"
   ]
  },
  {
   "cell_type": "code",
   "execution_count": null,
   "metadata": {
    "collapsed": true
   },
   "outputs": [],
   "source": [
    "korra['akas']"
   ]
  },
  {
   "cell_type": "code",
   "execution_count": null,
   "metadata": {
    "collapsed": true
   },
   "outputs": [],
   "source": [
    "print(korra.get('synopsis'))"
   ]
  },
  {
   "cell_type": "code",
   "execution_count": null,
   "metadata": {
    "collapsed": true
   },
   "outputs": [],
   "source": [
    "korra['kind']"
   ]
  },
  {
   "cell_type": "code",
   "execution_count": null,
   "metadata": {
    "collapsed": true
   },
   "outputs": [],
   "source": [
    "actors = korra['cast']"
   ]
  },
  {
   "cell_type": "code",
   "execution_count": null,
   "metadata": {
    "collapsed": true
   },
   "outputs": [],
   "source": [
    "print(actors)"
   ]
  },
  {
   "cell_type": "code",
   "execution_count": null,
   "metadata": {
    "collapsed": true
   },
   "outputs": [],
   "source": [
    "for i in range(len(actors)):\n",
    "    print(actors[i])"
   ]
  },
  {
   "cell_type": "code",
   "execution_count": null,
   "metadata": {
    "collapsed": true
   },
   "outputs": [],
   "source": [
    "joss_wedon = ia.search_person('whedon')"
   ]
  },
  {
   "cell_type": "code",
   "execution_count": null,
   "metadata": {
    "collapsed": true
   },
   "outputs": [],
   "source": [
    "print(joss_wedon)"
   ]
  },
  {
   "cell_type": "code",
   "execution_count": null,
   "metadata": {
    "collapsed": true
   },
   "outputs": [],
   "source": [
    "for i in range(len(joss_wedon)):\n",
    "    print(joss_wedon[i])"
   ]
  },
  {
   "cell_type": "code",
   "execution_count": null,
   "metadata": {
    "collapsed": true
   },
   "outputs": [],
   "source": [
    "top = ia.get_top250_movies()"
   ]
  },
  {
   "cell_type": "code",
   "execution_count": null,
   "metadata": {
    "collapsed": true
   },
   "outputs": [],
   "source": [
    "for i in range(len(top)):\n",
    "    print(top[i])"
   ]
  }
 ],
 "metadata": {
  "kernelspec": {
   "display_name": "Python 3",
   "language": "python",
   "name": "python3"
  },
  "language_info": {
   "codemirror_mode": {
    "name": "ipython",
    "version": 3
   },
   "file_extension": ".py",
   "mimetype": "text/x-python",
   "name": "python",
   "nbconvert_exporter": "python",
   "pygments_lexer": "ipython3",
   "version": "3.5.2"
  }
 },
 "nbformat": 4,
 "nbformat_minor": 2
}
